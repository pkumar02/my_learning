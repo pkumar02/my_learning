{
 "cells": [
  {
   "cell_type": "markdown",
   "metadata": {},
   "source": [
    "# Matrices and Vectors\n",
    "\n",
    "Matrices are 2-dimensional arrays:\n",
    "> $\n",
    "  \\left[ {\\begin{array}{cc}\n",
    "   a & b & c \\\\\n",
    "   d & e & f \\\\\n",
    "   g & h & i \\\\\n",
    "   j & k & l \\\\\n",
    "  \\end{array} } \\right]\n",
    "$\n",
    "\n",
    "\n",
    "The above matrix has four rows and three columns, so it is a 4 x 3 matrix.\n",
    "\n",
    "A vector is a matrix with one column and many rows:\n",
    "\n",
    "> $\n",
    "  \\left[ {\\begin{array}{cc}\n",
    "   w \\\\\n",
    "   x \\\\\n",
    "   y \\\\\n",
    "   z \\\\\n",
    "  \\end{array} } \\right]\n",
    "$\n",
    "\n",
    "So vectors are a subset of matrices. The above vector is a 4 x 1 matrix.\n",
    "\n",
    "Notation and terms:\n",
    "\n",
    "* $A_{ij}$ refers to the element in the ith row and jth column of matrix A.\n",
    "* A vector with 'n' rows is referred to as an 'n'-dimensional vector.\n",
    "* $v_i$ refers to the element in the ith row of the vector.\n",
    "* In general, all our vectors and matrices will be 1-indexed. Note that for some programming languages, the arrays are 0-indexed.\n",
    "* Matrices are usually denoted by uppercase names while vectors are lowercase.\n",
    "* \"Scalar\" means that an object is a single value, not a vector or matrix.\n",
    "* $\\mathbb{R}$ refers to the set of scalar real numbers.\n",
    "* $\\mathbb{R^n}$ refers to the set of n-dimensional vectors of real numbers.\n",
    "\n",
    "Experiment below with the Octave/Matlab commands for matrix and vector initalization \n",
    "```octave\n",
    "% The ; denotes we are going back to a new row.\n",
    "A = [1, 2, 3; 4, 5, 6; 7, 8, 9; 10, 11, 12]\n",
    "% Initialize a vector \n",
    "v = [1;2;3] \n",
    "% Get the dimension of the matrix A where m = rows and n = columns\n",
    "[m,n] = size(A)\n",
    "% You could also store it this way\n",
    "dim_A = size(A)\n",
    "% Get the dimension of the vector v \n",
    "dim_v = size(v)\n",
    "% Now let's index into the 2nd row 3rd column of matrix A\n",
    "A_23 = A(2,3)\n",
    "```"
   ]
  },
  {
   "cell_type": "code",
   "execution_count": 54,
   "metadata": {},
   "outputs": [],
   "source": [
    "import numpy as np\n"
   ]
  },
  {
   "cell_type": "code",
   "execution_count": 55,
   "metadata": {},
   "outputs": [
    {
     "name": "stdout",
     "output_type": "stream",
     "text": [
      "[[ 1  2  3]\n",
      " [ 4  5  6]\n",
      " [ 7  8  9]\n",
      " [10 11 12]] \n",
      "Matrix of Shape: (4, 3)\n"
     ]
    }
   ],
   "source": [
    "#Initialize a matrix (4,3)\n",
    "A= np.array([[1,2,3],[4,5,6],[7,8,9],[10,11,12]])\n",
    "print(A,\"\\nMatrix of Shape:\",A.shape)"
   ]
  },
  {
   "cell_type": "code",
   "execution_count": 56,
   "metadata": {},
   "outputs": [
    {
     "name": "stdout",
     "output_type": "stream",
     "text": [
      "[1 2 3] \n",
      "Vector of Shape: (3,)\n"
     ]
    }
   ],
   "source": [
    "#Initialize a vector\n",
    "v = np.array([1,2,3])\n",
    "print(v,\"\\nVector of Shape:\",v.shape)\n"
   ]
  },
  {
   "cell_type": "code",
   "execution_count": 57,
   "metadata": {},
   "outputs": [
    {
     "data": {
      "text/plain": [
       "6"
      ]
     },
     "execution_count": 57,
     "metadata": {},
     "output_type": "execute_result"
    }
   ],
   "source": [
    "#Now let's get the 2nd row 3rd column of matrix A which is 6\n",
    "A_23 = A[1,2]\n",
    "A_23"
   ]
  },
  {
   "cell_type": "markdown",
   "metadata": {},
   "source": [
    "## Addition and Scalar Multiplication\n",
    "\n",
    "Addition and subtraction are element-wise, so you simply add or subtract each corresponding element:\n",
    "> $\\left[ {\\begin{array}{cc}a & b \\\\ c & d\\\\ \\end{array} } \\right] + x := \\left[ {\\begin{array}{cc}a+x & b+x \\\\ c+x & d+x\\\\ \\end{array} } \\right]$\n",
    "\n",
    "Subtracting Matrices:\n",
    "> $\\left[ {\\begin{array}{cc}a & b \\\\ c & d\\\\ \\end{array} } \\right] - x := \\left[ {\\begin{array}{cc}a-x & b-x \\\\ c-x & d-x\\\\ \\end{array} } \\right]$\n",
    "\n",
    "To add or subtract two matrices, their dimensions must be the same.\n",
    "\n",
    "In scalar multiplication, we simply multiply every element by the scalar value:\n",
    "> $\\left[ {\\begin{array}{cc}a & b \\\\ c & d\\\\ \\end{array} } \\right] \\times x := \\left[ {\\begin{array}{cc}a\\times x & b\\times x \\\\ c\\times x & d\\times x\\\\ \\end{array} } \\right]$\n",
    "\n",
    "In scalar division, we simply divide every element by the scalar value:\n",
    "> $\\left[ {\\begin{array}{cc}a & b \\\\ c & d\\\\ \\end{array} } \\right]/ x := \\left[ {\\begin{array}{cc}\\frac{a}{x} & \\frac{b}{x} \\\\ \\frac{c}{x} & \\frac{d}{x}\\\\ \\end{array} } \\right]$\n",
    "\n",
    "Experiment below with the Octave/Matlab commands for matrix addition and scalar multiplication.\n",
    "```octave\n",
    "% Initialize matrix A and B \n",
    "A = [1, 2, 4; 5, 3, 2]\n",
    "B = [1, 3, 4; 1, 1, 1]\n",
    "% Initialize constant s \n",
    "s = 2\n",
    "% See how element-wise addition works\n",
    "add_AB = A + B \n",
    "% See how element-wise subtraction works\n",
    "sub_AB = A - B\n",
    "% See how scalar multiplication works\n",
    "mult_As = A * s\n",
    "% Divide A by s\n",
    "div_As = A / s\n",
    "% What happens if we have a Matrix + scalar?\n",
    "add_As = A + s\n",
    "```"
   ]
  },
  {
   "cell_type": "code",
   "execution_count": 58,
   "metadata": {},
   "outputs": [
    {
     "name": "stdout",
     "output_type": "stream",
     "text": [
      "A+B: [[2 5 8]\n",
      " [6 4 3]] \n",
      "\n",
      "A-B: [[ 0 -1  0]\n",
      " [ 4  2  1]] \n",
      "\n",
      "A*s: [[ 2  4  8]\n",
      " [10  6  4]] \n",
      "\n",
      "A/s: [[0.50000 1.00000 2.00000]\n",
      " [2.50000 1.50000 1.00000]] \n",
      "\n",
      "A + s: [[3 4 6]\n",
      " [7 5 4]] \n",
      "\n"
     ]
    }
   ],
   "source": [
    "A= np.array([[1,2,4],[5,3,2]])\n",
    "B= np.array([[1,3,4],[1,1,1]])\n",
    "s=2\n",
    "add_AB = A + B\n",
    "print('A+B:',add_AB,'\\n')\n",
    "sub_AB = A - B\n",
    "print('A-B:',sub_AB,'\\n')\n",
    "mult_As = A * s\n",
    "print('A*s:',mult_As,'\\n')\n",
    "div_As = A / s\n",
    "print('A/s:',div_As,'\\n')\n",
    "add_As = A + s\n",
    "print('A + s:',add_As,'\\n')"
   ]
  },
  {
   "cell_type": "markdown",
   "metadata": {},
   "source": [
    "## Matrix-Vector Multiplication (Dot Product)\n",
    "\n",
    "We map the column of the vector onto each row of the matrix, multiplying each element and summing the result.\n",
    "> $\\left[ {\\begin{array}{cc}a & b \\\\ c & d\\\\ e & f\\\\ \\end{array} } \\right] * \\left[ {\\begin{array}{cc}x \\\\ y\\\\ \\end{array} } \\right] := \\left[ {\\begin{array}{cc}a*x + b*y \\\\ c*x + d*y\\\\ e*x + f*y\\\\ \\end{array} } \\right]$\n",
    "\n",
    "The result is a vector. The number of columns of the matrix must equal the number of rows of the vector.\n",
    "\n",
    "An m x n matrix multiplied by an n x 1 vector results in an m x 1 vector.\n",
    "\n",
    "Below is an example of a matrix-vector multiplication. Make sure you understand how the multiplication works. \n",
    "```octave\n",
    "% Initialize matrix A \n",
    "A = [1, 2, 3; 4, 5, 6;7, 8, 9] \n",
    "% Initialize vector v \n",
    "v = [1; 1; 1] \n",
    "% Multiply A * v\n",
    "Av = A * v\n",
    "```"
   ]
  },
  {
   "cell_type": "code",
   "execution_count": 59,
   "metadata": {},
   "outputs": [
    {
     "name": "stdout",
     "output_type": "stream",
     "text": [
      "A.v: [ 6 15 24]\n"
     ]
    }
   ],
   "source": [
    "A= np.array([[1,2,3],[4,5,6],[7,8,9]])\n",
    "v=[1,1,1]\n",
    "Av=np.dot(A,v)\n",
    "print('A.v:',Av)"
   ]
  },
  {
   "cell_type": "markdown",
   "metadata": {},
   "source": [
    "## Matrix-Matrix Multiplication\n",
    "\n",
    "We multiply two matrices by breaking it into several vector multiplications and concatenating the result.\n",
    "> $\\left[ {\\begin{array}{cc}a & b \\\\ c & d\\\\ e & f\\\\ \\end{array} } \\right] * \\left[ {\\begin{array}{cc}w & x \\\\ y * z\\\\ \\end{array} } \\right] := \\left[ {\\begin{array}{cc}a*w + b*y & a*x + b*z\\\\ c*w + d*y & c*x + d*z\\\\ e*w + f*y & e*x + f*z\\\\ \\end{array} } \\right]$\n",
    "\n",
    "\n",
    "An m x n matrix multiplied by an n x o matrix results in an m x o matrix. In the above example, a 3 x 2 matrix times a 2 x 2 matrix resulted in a 3 x 2 matrix.\n",
    "\n",
    "To multiply two matrices, the number of columns of the first matrix must equal the number of rows of the second matrix.\n",
    "\n",
    "For example:\n",
    "```octave\n",
    "% Initialize a 3 by 2 matrix \n",
    "A = [1, 2; 3, 4;5, 6]\n",
    "% Initialize a 2 by 1 matrix \n",
    "B = [1; 2] \n",
    "% We expect a resulting matrix of (3 by 2)*(2 by 1) = (3 by 1) \n",
    "mult_AB = A*B\n",
    "% Make sure you understand why we got that result\n",
    "```"
   ]
  },
  {
   "cell_type": "code",
   "execution_count": 60,
   "metadata": {},
   "outputs": [
    {
     "name": "stdout",
     "output_type": "stream",
     "text": [
      "A*B: [[ 5]\n",
      " [11]\n",
      " [17]]\n"
     ]
    }
   ],
   "source": [
    "A= np.array([[1,2],[3,4],[5,6]])\n",
    "B=[[1],[2]]\n",
    "mult_AB = np.dot(A,B)\n",
    "print('A*B:',mult_AB)"
   ]
  },
  {
   "cell_type": "markdown",
   "metadata": {},
   "source": [
    "### Matrix Multiplication Properties\n",
    "\n",
    "* Matrices are not commutative: $ A∗B≠B∗A $\n",
    "* Matrices are associative: $ (A∗B)∗C=A∗(B∗C) $\n",
    "\n",
    "The __identity matrix__, when multiplied by any matrix of the same dimensions, results in the original matrix. It's just like multiplying numbers by 1. The identity matrix simply has 1's on the diagonal (upper left to lower right diagonal) and 0's elsewhere.\n",
    "$$\\left[ {\\begin{array}{cc}1 & 0 & 0 \\\\ 0 & 1 & 0\\\\ 0 & 0 & 1\\\\ \\end{array} } \\right]$$\n",
    "\n",
    "When multiplying the identity matrix after some matrix (A∗I), the square identity matrix's dimension should match the other matrix's columns. When multiplying the identity matrix before some other matrix (I∗A), the square identity matrix's dimension should match the other matrix's rows.\n",
    "\n",
    "```octave\n",
    "% Initialize random matrices A and B \n",
    "A = [1,2;4,5]\n",
    "B = [1,1;0,2]\n",
    "% Initialize a 2 by 2 identity matrix\n",
    "I = eye(2)\n",
    "% The above notation is the same as I = [1,0;0,1]\n",
    "% What happens when we multiply I*A ? \n",
    "IA = I*A \n",
    "% How about A*I ? \n",
    "AI = A*I \n",
    "% Compute A*B \n",
    "AB = A*B \n",
    "% Is it equal to B*A? \n",
    "BA = B*A \n",
    "% Note that IA = AI but AB != BA\n",
    "```"
   ]
  },
  {
   "cell_type": "code",
   "execution_count": 61,
   "metadata": {},
   "outputs": [
    {
     "name": "stdout",
     "output_type": "stream",
     "text": [
      "A:\n",
      " [[1 2]\n",
      " [4 5]] \n",
      "B:\n",
      " [[1 1]\n",
      " [0 2]] \n",
      "I:\n",
      " [[1 0]\n",
      " [0 1]]\n",
      "IA:\n",
      " [[1 2]\n",
      " [4 5]] \n",
      "AI:\n",
      " [[1 2]\n",
      " [4 5]]\n",
      "AB:\n",
      " [[ 1  5]\n",
      " [ 4 14]] \n",
      "BA:\n",
      " [[ 5  7]\n",
      " [ 8 10]]\n"
     ]
    }
   ],
   "source": [
    "A = np.array([[1,2],[4,5]])\n",
    "B = np.array([[1,1],[0,2]])\n",
    "I= np.identity(2,dtype='int64')\n",
    "IA=np.dot(I,A)\n",
    "AI=np.dot(A,I)\n",
    "AB=np.dot(A,B)\n",
    "BA=np.dot(B,A)\n",
    "print('A:\\n',A,'\\nB:\\n',B,'\\nI:\\n',I)\n",
    "print('IA:\\n',IA,'\\nAI:\\n',AI)\n",
    "print('AB:\\n',AB,'\\nBA:\\n',BA)"
   ]
  },
  {
   "cell_type": "markdown",
   "metadata": {},
   "source": [
    "## Inverse and Transpose\n",
    "\n",
    "The `inverse` of a matrix A is denoted $A^{-1}$. Multiplying by the inverse results in the identity matrix.\n",
    "\n",
    "A non square matrix does not have an inverse matrix. We can compute inverses of matrices in octave with the `pinv(A)` function , in Matlab with the `inv(A)` function and in python with the `np.linalg.inv`. Matrices that don't have an inverse are singular or degenerate.\n",
    "\n",
    "The `transposition` of a matrix is like rotating the matrix 90° in clockwise direction and then reversing it. We can compute transposition of matrices in matlab with the `transpose(A)` function or `A'` and and in python with the `A.T`:\n",
    "> $A = \\left[ {\\begin{array}{cc}a & b \\\\ c & d\\\\ e & f\\\\ \\end{array} } \\right]$ \n",
    "\n",
    "> $A^{T} = \\left[ {\\begin{array}{cc}a & c & e\\\\ b & d & f\\\\ \\end{array} } \\right]$\n",
    "\n",
    "\n",
    "In other words:\n",
    "\n",
    "$A_{ij} = A^T_{ji}$\n",
    "\n",
    "For example:\n",
    "```octave\n",
    "% Initialize matrix A \n",
    "A = [1,2,0;0,5,6;7,0,9]\n",
    "% Transpose A \n",
    "A_trans = A' \n",
    "% Take the inverse of A \n",
    "A_inv = inv(A)\n",
    "% What is A^(-1)*A? \n",
    "A_invA = inv(A)*A\n",
    "```"
   ]
  },
  {
   "cell_type": "code",
   "execution_count": 62,
   "metadata": {},
   "outputs": [
    {
     "name": "stdout",
     "output_type": "stream",
     "text": [
      "A:\n",
      " [[1 2 0]\n",
      " [0 5 6]\n",
      " [7 0 9]] \n",
      "A_trans:\n",
      " [[1 0 7]\n",
      " [2 5 0]\n",
      " [0 6 9]] \n",
      "A_inv:\n",
      " [[0.34884 -0.13953 0.09302]\n",
      " [0.32558 0.06977 -0.04651]\n",
      " [-0.27132 0.10853 0.03876]]\n",
      "A_invA:\n",
      " [[1.00000 0.00000 0.00000]\n",
      " [0.00000 1.00000 0.00000]\n",
      " [-0.00000 0.00000 1.00000]]\n"
     ]
    }
   ],
   "source": [
    "A = np.array([[1,2,0],[0,5,6],[7,0,9]])\n",
    "A_trans = A.T #Transpose A \n",
    "A_inv = np.linalg.inv(A)#Take the inverse of A \n",
    "A_invA = np.dot(A_inv, A)# What is A^(-1)*A? \n",
    "print('A:\\n',A,'\\nA_trans:\\n',A_trans,'\\nA_inv:\\n',A_inv)\n",
    "np.set_printoptions(formatter={'float': lambda x: \"{0:0.5f}\".format(x)})\n",
    "print('A_invA:\\n',A_invA)"
   ]
  }
 ],
 "metadata": {
  "kernelspec": {
   "display_name": "Python 3",
   "language": "python",
   "name": "python3"
  },
  "language_info": {
   "codemirror_mode": {
    "name": "ipython",
    "version": 3
   },
   "file_extension": ".py",
   "mimetype": "text/x-python",
   "name": "python",
   "nbconvert_exporter": "python",
   "pygments_lexer": "ipython3",
   "version": "3.6.6"
  }
 },
 "nbformat": 4,
 "nbformat_minor": 2
}
