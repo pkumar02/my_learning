{
 "cells": [
  {
   "cell_type": "code",
   "execution_count": 2,
   "metadata": {},
   "outputs": [],
   "source": [
    "import numpy as np\n",
    "import scipy.optimize as op\n",
    "import matplotlib.pyplot as plt\n",
    "%matplotlib inline"
   ]
  },
  {
   "cell_type": "code",
   "execution_count": 18,
   "metadata": {},
   "outputs": [],
   "source": [
    "def linear_regression(X, y, m_current=0, b_current=0, epochs=1000, learning_rate=0.0001):\n",
    "    N = float(len(y))\n",
    "    for i in range(epochs):\n",
    "        y_current = (m_current * X) + b_current\n",
    "        cost = sum([data**2 for data in (y-y_current)]) / N\n",
    "        m_gradient = -(2/N) * sum(X * (y - y_current))\n",
    "        b_gradient = -(2/N) * sum(y - y_current)\n",
    "        m_current = m_current - (learning_rate * m_gradient)\n",
    "        b_current = b_current - (learning_rate * b_gradient)\n",
    "    return m_current, b_current, cost"
   ]
  },
  {
   "cell_type": "code",
   "execution_count": 3,
   "metadata": {},
   "outputs": [],
   "source": [
    "def plotData(x,y):\n",
    "    pos = y==1\n",
    "    neg = y==0\n",
    "    print('Scatter plot of training data')\n",
    "    #X(pos, 1), X(pos, 2)\n",
    "    plt.figure(figsize=(8, 8))\n",
    "    plt.scatter(x[pos,0], x[pos,1],c='black',marker='+',label='Admitted')\n",
    "    plt.scatter(x[neg,0], x[neg,1],c='red',marker='o',label='Not Admitted')\n",
    "    plt.ylabel('Exam 2 score'); # Set the y-axis label\n",
    "    plt.xlabel('Exam 1 score'); # Set the x-axis label\n",
    "    l=plt.legend()\n",
    "    l.set_zorder(20)\n",
    "    plt.show()"
   ]
  },
  {
   "cell_type": "code",
   "execution_count": 5,
   "metadata": {},
   "outputs": [
    {
     "name": "stdout",
     "output_type": "stream",
     "text": [
      "Plotting data with + indicating (y = 1) examples and o indicating (y = 0) examples.\n",
      "Scatter plot of training data\n"
     ]
    },
    {
     "data": {
      "image/png": "[encoded data removed]",
      "text/plain": [
       "<Figure size 576x576 with 1 Axes>"
      ]
     },
     "metadata": {
      "needs_background": "light"
     },
     "output_type": "display_data"
    }
   ],
   "source": [
    "## Load Data\n",
    "#  The first two columns contains the exam scores and the third column\n",
    "#  contains the label.\n",
    "data = np.genfromtxt('data/ex2data1.txt', delimiter=',')\n",
    "x=data[:,0:-1]\n",
    "y=data[:,-1]\n",
    "(m, n) = x.shape;\n",
    "X= np.c_[ np.ones((m,1)) ,x]\n",
    "## ==================== Part 1: Plotting ====================\n",
    "#  We start the exercise by first plotting the data to understand the \n",
    "#  the problem we are working with.\n",
    "\n",
    "print('Plotting data with + indicating (y = 1) examples and o indicating (y = 0) examples.')\n",
    "plotData(x,y)"
   ]
  },
  {
   "cell_type": "code",
   "execution_count": 6,
   "metadata": {},
   "outputs": [],
   "source": [
    "def sigmoid(z):\n",
    "    return 1./(1+np.exp(-z))\n",
    "def gradient(theta,X, y):\n",
    "    m , n = X.shape\n",
    "    y = y.reshape((m,1))\n",
    "    theta = theta.reshape((n,1));\n",
    "    h=sigmoid(np.dot(X,theta))\n",
    "    grad = 1./m * np.dot(X.T, (h - y))\n",
    "    return grad.flatten();\n",
    "\n",
    "def costFunc(theta,X, y):\n",
    "    h=sigmoid(np.dot(X,theta))\n",
    "    m=X.shape[0]\n",
    "    J = 1./m * ( -np.dot(y.T , np.log(h)) - np.dot((1 - y.T),np.log (1 - h)))\n",
    "    return J"
   ]
  },
  {
   "cell_type": "code",
   "execution_count": 9,
   "metadata": {},
   "outputs": [
    {
     "name": "stdout",
     "output_type": "stream",
     "text": [
      "Cost at initial theta (zeros): 0.693147\n",
      "Gradient at initial theta (zeros):\n",
      "[ -0.1        -12.00921659 -11.26284221]\n"
     ]
    }
   ],
   "source": [
    "## ============ Part 2: Compute Cost and Gradient ============\n",
    "#  In this part of the exercise, you will implement the cost and gradient\n",
    "#  for logistic regression. You neeed to complete the code in \n",
    "#  costFunction.m\n",
    "initial_theta = np.zeros((n + 1,1))\n",
    "#print('Before:',initial_theta.shape,y.shape)\n",
    "grad=gradient(initial_theta,X,y)\n",
    "cost=costFunc(initial_theta,X,y)\n",
    "print('Cost at initial theta (zeros): {:f}'.format(cost[0]))\n",
    "print('Gradient at initial theta (zeros):')\n",
    "print(grad)"
   ]
  },
  {
   "cell_type": "code",
   "execution_count": 14,
   "metadata": {},
   "outputs": [],
   "source": [
    "def plotDecisionBoundary(theta, X, y):\n",
    "    x = X[:,1:3]\n",
    "    # Only need 2 points to define a line, so choose two endpoints\n",
    "    plot_x = np.array([np.min(X[:,2])-2,  np.max(X[:,2])+2])\n",
    "    # Calculate the decision boundary line\n",
    "    plot_y = (-1./theta[2])*(theta[1]*plot_x + theta[0])\n",
    "    pos = y==1\n",
    "    neg = y==0\n",
    "    print('Scatter plot of training data')\n",
    "    #X(pos, 1), X(pos, 2)\n",
    "    plt.figure(figsize=(8, 8))\n",
    "    plt.scatter(x[pos,0], x[pos,1],c='black',marker='+',label='Admitted')\n",
    "    plt.scatter(x[neg,0], x[neg,1],c='red',marker='o',label='Not Admitted')\n",
    "    plt.ylabel('Exam 2 score'); # Set the y-axis label\n",
    "    plt.xlabel('Exam 1 score'); # Set the x-axis label\n",
    "    plt.plot(plot_x, plot_y,label='Decision Boundary')\n",
    "    l=plt.legend()\n",
    "    l.set_zorder(20)\n",
    "    plt.show()"
   ]
  },
  {
   "cell_type": "code",
   "execution_count": 15,
   "metadata": {},
   "outputs": [
    {
     "name": "stderr",
     "output_type": "stream",
     "text": [
      "D:\\Anaconda3\\lib\\site-packages\\ipykernel_launcher.py:14: RuntimeWarning: divide by zero encountered in log\n",
      "  \n"
     ]
    },
    {
     "name": "stdout",
     "output_type": "stream",
     "text": [
      "Optimization terminated successfully.\n",
      "         Current function value: 0.203498\n",
      "         Iterations: 23\n",
      "         Function evaluations: 31\n",
      "         Gradient evaluations: 31\n",
      "Cost at theta found by fmin: 0.203498\n",
      "theta:\n",
      "[-25.16133284   0.2062317    0.2014716 ]\n",
      "Scatter plot of training data\n"
     ]
    },
    {
     "data": {
      "image/png": "[encoded data removed]",
      "text/plain": [
       "<Figure size 576x576 with 1 Axes>"
      ]
     },
     "metadata": {
      "needs_background": "light"
     },
     "output_type": "display_data"
    }
   ],
   "source": [
    "initial_theta = np.zeros((n + 1,1))\n",
    "result = op.minimize(fun = costFunc,x0=initial_theta,args = (X, y),method = 'BFGS', \n",
    "                     jac = gradient,options={'disp': True})\n",
    "#result = op.minimize(rosen, x0, method='BFGS', jac=rosen_der,options={'disp': True})\n",
    "\n",
    "theta=result.x\n",
    "cost_at_theta=result.fun\n",
    "\n",
    "\n",
    "# Print theta to screen\n",
    "print('Cost at theta found by fmin: {:f}'.format(cost_at_theta))\n",
    "print('theta:'),\n",
    "print(theta)\n",
    "# Plot Boundary\n",
    "plotDecisionBoundary(theta, X, y)"
   ]
  },
  {
   "cell_type": "code",
   "execution_count": 16,
   "metadata": {},
   "outputs": [],
   "source": [
    "def probability(theta,X):\n",
    "    return sigmoid(np.dot(X , theta))\n",
    "def predict(theta,X):\n",
    "    return sigmoid(np.dot(X , theta))>=0.5"
   ]
  },
  {
   "cell_type": "code",
   "execution_count": 17,
   "metadata": {},
   "outputs": [
    {
     "name": "stdout",
     "output_type": "stream",
     "text": [
      "For a student with scores 45 and 85, we predict an admission probability of  0.7762907240588942\n",
      "Train Accuracy:  89.0\n"
     ]
    }
   ],
   "source": [
    "## ============== Part 4: Predict and Accuracies ==============\n",
    "#  After learning the parameters, you'll like to use it to predict the outcomes\n",
    "#  on unseen data. In this part, you will use the logistic regression model\n",
    "#  to predict the probability that a student with score 45 on exam 1 and \n",
    "#  score 85 on exam 2 will be admitted.\n",
    "#\n",
    "#  Furthermore, you will compute the training and test set accuracies of \n",
    "#  our model.\n",
    "#\n",
    "#  Predict probability for a student with score 45 on exam 1 \n",
    "#  and score 85 on exam 2 \n",
    "prob = probability(theta,np.array([1,45,85]))\n",
    "print('For a student with scores 45 and 85, we predict an admission probability of ', prob)\n",
    "#Compute accuracy on our training set\n",
    "p = predict(theta, X)\n",
    "print('Train Accuracy: ', np.mean((p == y) * 100))\n",
    "\n"
   ]
  }
 ],
 "metadata": {
  "kernelspec": {
   "display_name": "Python 3",
   "language": "python",
   "name": "python3"
  },
  "language_info": {
   "codemirror_mode": {
    "name": "ipython",
    "version": 3
   },
   "file_extension": ".py",
   "mimetype": "text/x-python",
   "name": "python",
   "nbconvert_exporter": "python",
   "pygments_lexer": "ipython3",
   "version": "3.6.6"
  }
 },
 "nbformat": 4,
 "nbformat_minor": 2
}
