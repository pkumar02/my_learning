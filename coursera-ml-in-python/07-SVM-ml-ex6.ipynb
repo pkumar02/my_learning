{
 "cells": [
  {
   "cell_type": "markdown",
   "metadata": {},
   "source": [
    "# Support Vector Machines\n",
    "\n",
    "\n",
    "In this notebook we gain some visual intuition on how Support Vector Machine (SVM) classifiers work with a dataset in 2 dimensions, and then build a spam classifier with SVMs!\n",
    "\n",
    "![Kernel Machine](img/Kernel_Machine.png?raw=true \"Kernel Machine\")\n",
    "\n",
    "SVMs help us look at our training examples and learn a way to map them to a high-dimensional space so that we can separate different categories with boundaries that are as wide as possible (as in the image above). When a new example comes along, we can map it to that space and categorize it based on which side of the boundaries it falls on. \n",
    "\n",
    "This mapping is possible due to a [_kernel_](https://en.wikipedia.org/wiki/Kernel_method) function. This is the function that maps the examples into a high-dimensional space. Use of kernel functions are often called kernel tricks because we don't need to know the exact mapping of the examples into that space (which can be expensive to compute), but rather only the _similarity_ between those mappings (which can be cheaper to compute).\n",
    "\n",
    "Even if this is all a bit fuzzy, SVMs are important to know and interesting to look at because they have been a [popular](https://www.quora.com/Why-did-SVM-become-more-popular-than-Logistic-Regression) [black-box](https://datascience.stackexchange.com/questions/711/are-support-vector-machines-still-considered-state-of-the-art-in-their-niche) [choice](https://www.researchgate.net/post/Can_we_say_that_SVM_is_the_best_classifier_to_date14) for machine learning practitioners.\n",
    "\n",
    "This code was ported from Octave/Matlab to python and was part of the absolutely excellent [Machine Learning course](http://ml-class.org) by Stanford's [Andrew Ng](http://www.andrewng.org) on Coursera.\n",
    "\n",
    "---"
   ]
  },
  {
   "cell_type": "code",
   "execution_count": 4,
   "metadata": {},
   "outputs": [],
   "source": [
    "import scipy.io\n",
    "import numpy as np\n",
    "import matplotlib.pyplot as plt\n",
    "from sklearn import svm"
   ]
  },
  {
   "cell_type": "markdown",
   "metadata": {},
   "source": [
    "## Visualization\n",
    "\n",
    "We can start by visualizing our dataset"
   ]
  },
  {
   "cell_type": "code",
   "execution_count": 40,
   "metadata": {},
   "outputs": [],
   "source": [
    "def plotData(X, y):\n",
    "    #PLOTDATA Plots the data points X and y into a new figure \n",
    "    #   PLOTDATA(x,y) plots the data points with + for the positive examples\n",
    "    #   and o for the negative examples. X is assumed to be a Mx2 matrix.\n",
    "    #\n",
    "    # Note: This was slightly modified such that it expects y = 1 or y = 0\n",
    "\n",
    "    # Find Indices of Positive and Negative Examples\n",
    "    y = y.flatten()\n",
    "    pos = y==1\n",
    "    neg = y==0\n",
    "    # Plot Examples\n",
    "    plt.plot(X[:,0][pos], X[:,1][pos], \"k+\", markersize=15, mew=3)\n",
    "    plt.plot(X[:,0][neg], X[:,1][neg], \"yo\", markersize=15)\n",
    "\n",
    "    # alternatives\n",
    "    #\n",
    "    # plt.scatter(*zip(*X[pos]), c=\"k\", marker='+', s=100)\n",
    "    # plt.scatter(*zip(*X[neg]), c=\"y\", marker='o', s=100)\n",
    "    #\n",
    "    # plt.plot(X[:,0][pos], X[:,1][pos], 'k+', X[:,0][neg], X[:,1][neg], 'yo', markersize=10)\n",
    "\n",
    "    plt.show()"
   ]
  },
  {
   "cell_type": "code",
   "execution_count": 49,
   "metadata": {},
   "outputs": [
    {
     "name": "stdout",
     "output_type": "stream",
     "text": [
      "Loading and Visualizing Data ...\n"
     ]
    },
    {
     "data": {
      "image/png": "[encoded data removed]",
      "text/plain": [
       "<Figure size 864x576 with 1 Axes>"
      ]
     },
     "metadata": {
      "needs_background": "light"
     },
     "output_type": "display_data"
    }
   ],
   "source": [
    "## =============== Part 1: Loading and Visualizing Data ================\n",
    "#  We start the exercise by first loading and visualizing the dataset. \n",
    "#  The following code will load the dataset into your environment and plot\n",
    "#  the data.\n",
    "#\n",
    "\n",
    "print('Loading and Visualizing Data ...')\n",
    "\n",
    "# Load from ex6data1: \n",
    "# You will have X, y in your environment\n",
    "mat = scipy.io.loadmat('data/svm/ex6data1.mat')\n",
    "X = mat[\"X\"]\n",
    "y = mat[\"y\"]\n",
    "\n",
    "plt.figure(figsize=(12,8))\n",
    "plotData(X, y)"
   ]
  },
  {
   "cell_type": "markdown",
   "metadata": {},
   "source": [
    "## Linear kernel SVM\n",
    "\n",
    "Now we can load ``svmTrain()``, a wrapper function to train a SVM. It's defined to accept other kernels moving forward."
   ]
  },
  {
   "cell_type": "code",
   "execution_count": 8,
   "metadata": {},
   "outputs": [],
   "source": [
    "def linearKernel(x1, x2):\n",
    "    #LINEARKERNEL returns a linear kernel between x1 and x2\n",
    "    #   sim = linearKernel(x1, x2) returns a linear kernel between x1 and x2\n",
    "    #   and returns the value in sim\n",
    "\n",
    "    # Ensure that x1 and x2 are column vectors\n",
    "    # x1 = x1.flatten()\n",
    "    # x2 = x2.flatten()\n",
    "\n",
    "    # Compute the kernel\n",
    "    sim = np.dot(x1, x2.T)  # dot product\n",
    "    return sim\n",
    "\n",
    "def svmTrain(X, y, C, kernelFunction, tol=1e-3, max_passes=-1, sigma=0.1):\n",
    "    \"\"\"Trains an SVM classifier\"\"\"\n",
    "\n",
    "    y = y.flatten() # prevents warning\n",
    "\n",
    "    # alternative to emulate mapping of 0 -> -1 in svmTrain.m\n",
    "    #  but results are identical without it\n",
    "    # also need to cast from unsigned int to regular int\n",
    "    # otherwise, contour() in visualizeBoundary.py doesn't work as expected\n",
    "    # y = y.astype(\"int32\")\n",
    "    # y[y==0] = -1\n",
    "\n",
    "    if kernelFunction == \"gaussian\":\n",
    "        clf = svm.SVC(C = C, kernel=\"precomputed\", tol=tol, max_iter=max_passes, verbose=2)\n",
    "        return clf.fit(gaussianKernelGramMatrix(X,X, sigma=sigma), y)\n",
    "\n",
    "    # elif kernelFunction == \"linear\":\n",
    "    #     clf = svm.SVC(C = C, kernel=\"precomputed\", tol=tol, max_iter=max_passes, verbose=2)\n",
    "    #     return clf.fit(np.dot(X,X.T).T, y)\n",
    "\n",
    "    else: # works with \"linear\", \"rbf\"\n",
    "        clf = svm.SVC(C = C, kernel=kernelFunction, tol=tol, max_iter=max_passes, verbose=2)\n",
    "        return clf.fit(X, y)"
   ]
  },
  {
   "cell_type": "markdown",
   "metadata": {},
   "source": [
    "We also define a function to visualize the linear boundary:"
   ]
  },
  {
   "cell_type": "code",
   "execution_count": 42,
   "metadata": {},
   "outputs": [],
   "source": [
    "def visualizeBoundaryLinear(X, y, model):\n",
    "    #VISUALIZEBOUNDARYLINEAR plots a linear decision boundary learned by the\n",
    "    #SVM\n",
    "    #   VISUALIZEBOUNDARYLINEAR(X, y, model) plots a linear decision boundary \n",
    "    #   learned by the SVM and overlays the data on it\n",
    "\n",
    "    # plot decision boundary\n",
    "    # right assignments from http://stackoverflow.com/a/22356267/583834\n",
    "    \n",
    "    w = model.coef_[0]\n",
    "    b = model.intercept_[0]\n",
    "    xp = np.linspace(X[:,0].min(), X[:,0].max(), 100)\n",
    "    yp = - (w[0] * xp + b) / w[1]\n",
    "\n",
    "     \n",
    "    #\n",
    "    y = y.flatten()\n",
    "    pos = y==1\n",
    "    neg = y==0\n",
    "    plt.plot(xp, yp, 'b-')  \n",
    "    # Plot Examples\n",
    "    plotData(X, y)"
   ]
  },
  {
   "cell_type": "code",
   "execution_count": 50,
   "metadata": {},
   "outputs": [
    {
     "name": "stdout",
     "output_type": "stream",
     "text": [
      "Training Linear SVM ...\n",
      "[LibSVM]"
     ]
    },
    {
     "name": "stderr",
     "output_type": "stream",
     "text": [
      "D:\\Anaconda3\\lib\\site-packages\\sklearn\\svm\\base.py:218: ConvergenceWarning: Solver terminated early (max_iter=20).  Consider pre-processing your data with StandardScaler or MinMaxScaler.\n",
      "  % self.max_iter, ConvergenceWarning)\n"
     ]
    },
    {
     "data": {
      "image/png": "[encoded data removed]",
      "text/plain": [
       "<Figure size 864x576 with 1 Axes>"
      ]
     },
     "metadata": {
      "needs_background": "light"
     },
     "output_type": "display_data"
    }
   ],
   "source": [
    "## ==================== Part 2: Training Linear SVM ====================\n",
    "#  The following code will train a linear SVM on the dataset and plot the\n",
    "#  decision boundary learned.\n",
    "#\n",
    "\n",
    "print('Training Linear SVM ...')\n",
    "\n",
    "# You should try to change the C value below and see how the decision\n",
    "# boundary varies (e.g., try C = 1000)\n",
    "C = 1\n",
    "model = svmTrain(X, y, C, \"linear\", 1e-3, 20)\n",
    "plt.close()\n",
    "plt.figure(figsize=(12,8))\n",
    "visualizeBoundaryLinear(X, y, model)\n"
   ]
  },
  {
   "cell_type": "markdown",
   "metadata": {},
   "source": [
    "We can also try a different value for ``C``, the parameter that tells the linear SVM \"how much you want to avoid misclassifying each training example\" [(as stated here)](https://stats.stackexchange.com/a/31067/19809). That is, it's a penalty for misclassified examples.\n",
    "\n",
    "You can also see great visual representations the effects of low and high ``C`` values on different datasets [here](https://stats.stackexchange.com/a/159051/19809)."
   ]
  },
  {
   "cell_type": "code",
   "execution_count": 51,
   "metadata": {},
   "outputs": [
    {
     "name": "stdout",
     "output_type": "stream",
     "text": [
      "[LibSVM]"
     ]
    },
    {
     "name": "stderr",
     "output_type": "stream",
     "text": [
      "D:\\Anaconda3\\lib\\site-packages\\sklearn\\svm\\base.py:218: ConvergenceWarning: Solver terminated early (max_iter=20).  Consider pre-processing your data with StandardScaler or MinMaxScaler.\n",
      "  % self.max_iter, ConvergenceWarning)\n"
     ]
    },
    {
     "data": {
      "image/png": "[encoded data removed]",
      "text/plain": [
       "<Figure size 864x576 with 1 Axes>"
      ]
     },
     "metadata": {
      "needs_background": "light"
     },
     "output_type": "display_data"
    }
   ],
   "source": [
    "C = 100\n",
    "model = svmTrain(X, y, C, \"linear\", 1e-3, 20)\n",
    "plt.close()\n",
    "plt.figure(figsize=(12,8))\n",
    "visualizeBoundaryLinear(X, y, model)"
   ]
  },
  {
   "cell_type": "markdown",
   "metadata": {},
   "source": [
    "We can see that, in an effort to accommodate the outlier around (0,4), the ``C=100`` boundary performs worse than with ``C=1``.\n",
    "\n",
    "## Gaussian Kernel SVM\n",
    "\n",
    "We extend our SVM capabilities by defining a Gaussian RBF kernel. In case you're curious, here's a more detailed explanation of the [difference between a Gaussian kernel and a Gaussian _RBF_ kernel](https://stats.stackexchange.com/questions/79192/gaussian-rbf-vs-gaussian-kernel). Roughly, the Gaussian RBF kernel used here helps us measure the distance or the similarity between a pair of examples. \n",
    "\n",
    "We use a ``sigma`` parameter that indicates how quickly the similarity metric decreases as two examples are further apart.\n",
    "\n",
    "Using a custom kernel with [``sklearn.svm.SCV()``](http://scikit-learn.org/stable/modules/generated/sklearn.svm.SVC.html) was not as well documented as I'd hoped, so I put up an [answer about it](https://stackoverflow.com/a/38647546/583834) in Stack Overflow."
   ]
  },
  {
   "cell_type": "code",
   "execution_count": 45,
   "metadata": {},
   "outputs": [],
   "source": [
    "def gaussianKernel(x1, x2, sigma=0.1):\n",
    "    #RBFKERNEL returns a radial basis function kernel between x1 and x2\n",
    "    #   sim = gaussianKernel(x1, x2) returns a gaussian kernel between x1 and x2\n",
    "    #   and returns the value in sim\n",
    "\n",
    "    # Ensure that x1 and x2 are column vectors\n",
    "    x1 = x1.flatten()\n",
    "    x2 = x2.flatten()\n",
    "\n",
    "    # You need to return the following variables correctly.\n",
    "    sim = 0\n",
    "\n",
    "    # ====================== YOUR CODE HERE ======================\n",
    "    # Instructions: Fill in this function to return the similarity between x1\n",
    "    #               and x2 computed using a Gaussian kernel with bandwidth\n",
    "    #               sigma\n",
    "    #\n",
    "    #\n",
    "\n",
    "    sim = np.exp(- np.sum( np.power((x1 - x2),2) ) / float( 2*(sigma**2) ) )\n",
    "    return sim\n",
    "def gaussianKernelGramMatrix(X1, X2, K_function=gaussianKernel, sigma=0.1):\n",
    "    \"\"\"(Pre)calculates Gram Matrix K\"\"\"\n",
    "\n",
    "    gram_matrix = np.zeros((X1.shape[0], X2.shape[0]))\n",
    "    for i, x1 in enumerate(X1):\n",
    "        for j, x2 in enumerate(X2):\n",
    "            gram_matrix[i, j] = K_function(x1, x2, sigma)\n",
    "    return gram_matrix"
   ]
  },
  {
   "cell_type": "markdown",
   "metadata": {},
   "source": [
    "We evaluate the implementation of ``gaussianKernel()``. The output should be about 0.324652."
   ]
  },
  {
   "cell_type": "code",
   "execution_count": 46,
   "metadata": {},
   "outputs": [
    {
     "name": "stdout",
     "output_type": "stream",
     "text": [
      "Evaluating the Gaussian Kernel ...\n",
      "Gaussian Kernel between x1 = [1; 2; 1], x2 = [0; 4; -1], sigma = 2 :\n",
      "\t0.324652\n",
      "(this value should be about 0.324652)\n",
      "\n"
     ]
    }
   ],
   "source": [
    "## =============== Part 3: Implementing Gaussian Kernel ===============\n",
    "#  You will now implement the Gaussian kernel to use\n",
    "#  with the SVM. You should complete the code in gaussianKernel.m\n",
    "#\n",
    "print('Evaluating the Gaussian Kernel ...')\n",
    "\n",
    "x1 = np.array([1, 2, 1])\n",
    "x2 = np.array([0, 4, -1])\n",
    "sigma = 2\n",
    "sim = gaussianKernel(x1, x2, sigma)\n",
    "\n",
    "print('Gaussian Kernel between x1 = [1; 2; 1], x2 = [0; 4; -1], sigma = 2 :' \\\n",
    "         '\\n\\t{:f}\\n(this value should be about 0.324652)\\n'.format(sim))"
   ]
  },
  {
   "cell_type": "markdown",
   "metadata": {},
   "source": [
    "### A more complex dataset"
   ]
  },
  {
   "cell_type": "code",
   "execution_count": 52,
   "metadata": {},
   "outputs": [
    {
     "name": "stdout",
     "output_type": "stream",
     "text": [
      "Loading and Visualizing Data ...\n"
     ]
    },
    {
     "data": {
      "image/png": "[encoded data removed]",
      "text/plain": [
       "<Figure size 864x576 with 1 Axes>"
      ]
     },
     "metadata": {
      "needs_background": "light"
     },
     "output_type": "display_data"
    }
   ],
   "source": [
    "## =============== Part 4: Visualizing Dataset 2 ================\n",
    "#  The following code will load the next dataset into your environment and \n",
    "#  plot the data. \n",
    "#\n",
    "\n",
    "print('Loading and Visualizing Data ...')\n",
    "\n",
    "# Load from ex6data2: \n",
    "# You will have X, y in your environment\n",
    "mat = scipy.io.loadmat('data/svm/ex6data2.mat')\n",
    "X = mat[\"X\"]\n",
    "y = mat[\"y\"]\n",
    "\n",
    "# Plot training data\n",
    "plt.close()\n",
    "plt.figure(figsize=(12,8))\n",
    "plotData(X, y)"
   ]
  },
  {
   "cell_type": "markdown",
   "metadata": {},
   "source": [
    "In order to visualize the SVM-trained boundaries around the data categories, we define a new visualization function."
   ]
  },
  {
   "cell_type": "code",
   "execution_count": 53,
   "metadata": {},
   "outputs": [],
   "source": [
    "def visualizeBoundary(X, y, model, varargin=0):\n",
    "    #VISUALIZEBOUNDARY plots a non-linear decision boundary learned by the SVM\n",
    "    #   VISUALIZEBOUNDARYLINEAR(X, y, model) plots a non-linear decision \n",
    "    #   boundary learned by the SVM and overlays the data on it\n",
    "\n",
    "    # Plot the training data on top of the boundary\n",
    "    plotData(X, y)\n",
    "\n",
    "    # Make classification predictions over a grid of values\n",
    "    x1plot = np.linspace(X[:,0].min(), X[:,0].max(), 100).T\n",
    "    x2plot = np.linspace(X[:,1].min(), X[:,1].max(), 100).T\n",
    "    X1, X2 = np.meshgrid(x1plot, x2plot)\n",
    "    vals = np.zeros(X1.shape)\n",
    "    for i in range(X1.shape[1]):\n",
    "       this_X = np.column_stack((X1[:, i], X2[:, i]))\n",
    "       vals[:, i] = model.predict(gaussianKernelGramMatrix(this_X, X))\n",
    "\n",
    "    # Plot the SVM boundary\n",
    "    plt.contour(X1, X2, vals, colors=\"blue\", levels=[0,0])\n",
    "    plt.show(block=False)"
   ]
  },
  {
   "cell_type": "markdown",
   "metadata": {},
   "source": [
    "And now we can train a SVM with a Gaussian RBF kernel and visualize the boundaries it learns:"
   ]
  },
  {
   "cell_type": "code",
   "execution_count": 54,
   "metadata": {},
   "outputs": [
    {
     "name": "stdout",
     "output_type": "stream",
     "text": [
      "Training SVM with RBF Kernel (this may take 1 to 2 minutes) ...\n",
      "[LibSVM]"
     ]
    },
    {
     "data": {
      "image/png": "[encoded data removed]",
      "text/plain": [
       "<Figure size 864x576 with 1 Axes>"
      ]
     },
     "metadata": {
      "needs_background": "light"
     },
     "output_type": "display_data"
    },
    {
     "name": "stderr",
     "output_type": "stream",
     "text": [
      "D:\\Anaconda3\\lib\\site-packages\\matplotlib\\contour.py:1173: UserWarning: No contour levels were found within the data range.\n",
      "  warnings.warn(\"No contour levels were found\"\n"
     ]
    },
    {
     "data": {
      "image/png": "[encoded data removed]",
      "text/plain": [
       "<Figure size 432x288 with 1 Axes>"
      ]
     },
     "metadata": {
      "needs_background": "light"
     },
     "output_type": "display_data"
    }
   ],
   "source": [
    "## ========== Part 5: Training SVM with RBF Kernel (Dataset 2) ==========\n",
    "#  After you have implemented the kernel, we can now use it to train the \n",
    "#  SVM classifier.\n",
    "# \n",
    "print('Training SVM with RBF Kernel (this may take 1 to 2 minutes) ...');\n",
    "\n",
    "# Load from ex6data2: \n",
    "# You will have X, y in your environment\n",
    "#already loaded in last part\n",
    "\n",
    "# SVM Parameters\n",
    "C = 1\n",
    "sigma = 0.1\n",
    "\n",
    "# We set the tolerance and max_passes lower here so that the code will run\n",
    "# faster. However, in practice, you will want to run the training to\n",
    "# convergence.\n",
    "model = svmTrain(X, y, C, \"gaussian\")\n",
    "\n",
    "# alternative if don't want to implement Gaussian kernel\n",
    "# model = svmt.svmTrain(X, y.flatten(), C, \"rbf\", gamma=6) \n",
    "\n",
    "plt.close()\n",
    "plt.figure(figsize=(12,8))\n",
    "visualizeBoundary(X, y, model)\n"
   ]
  },
  {
   "cell_type": "markdown",
   "metadata": {},
   "source": [
    "## Optimizing SVM parameters\n",
    "\n",
    "Now we consider a third dataset"
   ]
  },
  {
   "cell_type": "code",
   "execution_count": 55,
   "metadata": {},
   "outputs": [
    {
     "name": "stdout",
     "output_type": "stream",
     "text": [
      "Loading and Visualizing Data ...\n"
     ]
    },
    {
     "data": {
      "image/png": "[encoded data removed]",
      "text/plain": [
       "<Figure size 864x576 with 1 Axes>"
      ]
     },
     "metadata": {
      "needs_background": "light"
     },
     "output_type": "display_data"
    }
   ],
   "source": [
    "## =============== Part 6: Visualizing Dataset 3 ================\n",
    "#  The following code will load the next dataset into your environment and \n",
    "#  plot the data. \n",
    "#\n",
    "\n",
    "print('Loading and Visualizing Data ...')\n",
    "\n",
    "# Load from ex6data3: \n",
    "# You will have X, y in your environment\n",
    "mat = scipy.io.loadmat('data/svm/ex6data3.mat')\n",
    "X = mat[\"X\"]\n",
    "y = mat[\"y\"]\n",
    "\n",
    "# Plot training data\n",
    "plt.close()\n",
    "plt.figure(figsize=(12,8))\n",
    "plotData(X, y)"
   ]
  },
  {
   "cell_type": "markdown",
   "metadata": {},
   "source": [
    "We can try different parameters on a validation set to find a good fit for the trained boundaries. We define a function to explore the range {0.01, 0.03, 0.1, 0.3, 1, 3, 10, 30} for ``C`` and ``sigma``."
   ]
  },
  {
   "cell_type": "code",
   "execution_count": 56,
   "metadata": {},
   "outputs": [],
   "source": [
    "def dataset3Params(X, y, Xval, yval):\n",
    "    #EX6PARAMS returns your choice of C and sigma for Part 3 of the exercise\n",
    "    #where you select the optimal (C, sigma) learning parameters to use for SVM\n",
    "    #with RBF kernel\n",
    "    #   [C, sigma] = EX6PARAMS(X, y, Xval, yval) returns your choice of C and \n",
    "    #   sigma. You should complete this function to return the optimal C and \n",
    "    #   sigma based on a cross-validation set.\n",
    "    #\n",
    "\n",
    "    # You need to return the following variables correctly.\n",
    "    sigma = 0.3\n",
    "    C = 1\n",
    "\n",
    "    # ====================== YOUR CODE HERE ======================\n",
    "    # Instructions: Fill in this function to return the optimal C and sigma\n",
    "    #               learning parameters found using the cross validation set.\n",
    "    #               You can use svmPredict to predict the labels on the cross\n",
    "    #               validation set. For example, \n",
    "    #                   predictions = svmPredict(model, Xval)\n",
    "    #               will return the predictions on the cross validation set.\n",
    "    #\n",
    "    #  Note: You can compute the prediction error using \n",
    "    #        mean(double(predictions ~= yval))\n",
    "    #\n",
    "\n",
    "    ### determining best C and sigma\n",
    "\n",
    "    # need x1 and x2, copied from ex6.py\n",
    "    x1 = [1, 2, 1] \n",
    "    x2 = [0, 4, -1]\n",
    "\n",
    "    # only uncomment if similar lines are uncommented on svmTrain.py\n",
    "    # yval = yval.astype(\"int32\")\n",
    "    # yval[yval==0] = -1\n",
    "\n",
    "    # vector with all predictions from SVM\n",
    "    predictionErrors = np.zeros((64,3))\n",
    "    predictionsCounter = 0\n",
    "\n",
    "    # iterate over values of sigma and C\n",
    "    for sigma in [0.01, 0.03, 0.1, 0.3, 1, 3, 10, 30]:\n",
    "        for C in [0.01, 0.03, 0.1, 0.3, 1, 3, 10, 30]:\n",
    "\n",
    "            print(\"trying sigma={:.2f}, C={:.2f}\".format(sigma, C))\n",
    "            \n",
    "            # train model on training corpus with current sigma and C\n",
    "            model = svmTrain(X, y, C, \"gaussian\", sigma=sigma)\n",
    "\n",
    "            # compute predictions on cross-validation set\n",
    "            predictions = model.predict(gaussianKernelGramMatrix(Xval, X))\n",
    "\n",
    "            # compute prediction errors on cross-validation set\n",
    "            predictionErrors[predictionsCounter,0] = np.mean((predictions != yval).astype(int))\n",
    "\n",
    "            # store corresponding C and sigma\n",
    "            predictionErrors[predictionsCounter,1] = sigma      \n",
    "            predictionErrors[predictionsCounter,2] = C      \n",
    "            \n",
    "            # move counter up by one\n",
    "            predictionsCounter = predictionsCounter + 1\n",
    "\n",
    "    print(predictionErrors)\n",
    "\n",
    "    # calculate mins of columns with their indexes\n",
    "    row = predictionErrors.argmin(axis=0)\n",
    "    m   = np.zeros(row.shape)\n",
    "    for i in range(len(m)):\n",
    "        m[i] = predictionErrors[row[i]][i]\n",
    "\n",
    "\n",
    "    # note that row[0] is the index of the min of the first column\n",
    "    #   and that the first column corresponds to the error, \n",
    "    #   so the row at predictionErrors(row(1),:) has best C and sigma\n",
    "    print(predictionErrors[row[0],1])\n",
    "    print(predictionErrors[row[0],2])\n",
    "\n",
    "    # get C and sigma form such row\n",
    "    sigma = predictionErrors[row[0],1]\n",
    "    C     = predictionErrors[row[0],2]\n",
    "\n",
    "\n",
    "    return C, sigma"
   ]
  },
  {
   "cell_type": "markdown",
   "metadata": {},
   "source": [
    "And we run it to find the optimal values of ``C`` and ``sigma``."
   ]
  },
  {
   "cell_type": "code",
   "execution_count": 57,
   "metadata": {},
   "outputs": [
    {
     "name": "stdout",
     "output_type": "stream",
     "text": [
      "trying sigma=0.01, C=0.01\n",
      "[LibSVM]trying sigma=0.01, C=0.03\n",
      "[LibSVM]trying sigma=0.01, C=0.10\n",
      "[LibSVM]trying sigma=0.01, C=0.30\n",
      "[LibSVM]trying sigma=0.01, C=1.00\n",
      "[LibSVM]trying sigma=0.01, C=3.00\n",
      "[LibSVM]trying sigma=0.01, C=10.00\n",
      "[LibSVM]trying sigma=0.01, C=30.00\n",
      "[LibSVM]trying sigma=0.03, C=0.01\n",
      "[LibSVM]trying sigma=0.03, C=0.03\n",
      "[LibSVM]trying sigma=0.03, C=0.10\n",
      "[LibSVM]trying sigma=0.03, C=0.30\n",
      "[LibSVM]trying sigma=0.03, C=1.00\n",
      "[LibSVM]trying sigma=0.03, C=3.00\n",
      "[LibSVM]trying sigma=0.03, C=10.00\n",
      "[LibSVM]trying sigma=0.03, C=30.00\n",
      "[LibSVM]trying sigma=0.10, C=0.01\n",
      "[LibSVM]trying sigma=0.10, C=0.03\n",
      "[LibSVM]trying sigma=0.10, C=0.10\n",
      "[LibSVM]trying sigma=0.10, C=0.30\n",
      "[LibSVM]trying sigma=0.10, C=1.00\n",
      "[LibSVM]trying sigma=0.10, C=3.00\n",
      "[LibSVM]trying sigma=0.10, C=10.00\n",
      "[LibSVM]trying sigma=0.10, C=30.00\n",
      "[LibSVM]trying sigma=0.30, C=0.01\n",
      "[LibSVM]trying sigma=0.30, C=0.03\n",
      "[LibSVM]trying sigma=0.30, C=0.10\n",
      "[LibSVM]trying sigma=0.30, C=0.30\n",
      "[LibSVM]trying sigma=0.30, C=1.00\n",
      "[LibSVM]trying sigma=0.30, C=3.00\n",
      "[LibSVM]trying sigma=0.30, C=10.00\n",
      "[LibSVM]trying sigma=0.30, C=30.00\n",
      "[LibSVM]trying sigma=1.00, C=0.01\n",
      "[LibSVM]trying sigma=1.00, C=0.03\n",
      "[LibSVM]trying sigma=1.00, C=0.10\n",
      "[LibSVM]trying sigma=1.00, C=0.30\n",
      "[LibSVM]trying sigma=1.00, C=1.00\n",
      "[LibSVM]trying sigma=1.00, C=3.00\n",
      "[LibSVM]trying sigma=1.00, C=10.00\n",
      "[LibSVM]trying sigma=1.00, C=30.00\n",
      "[LibSVM]trying sigma=3.00, C=0.01\n",
      "[LibSVM]trying sigma=3.00, C=0.03\n",
      "[LibSVM]trying sigma=3.00, C=0.10\n",
      "[LibSVM]trying sigma=3.00, C=0.30\n",
      "[LibSVM]trying sigma=3.00, C=1.00\n",
      "[LibSVM]trying sigma=3.00, C=3.00\n",
      "[LibSVM]trying sigma=3.00, C=10.00\n",
      "[LibSVM]trying sigma=3.00, C=30.00\n",
      "[LibSVM]trying sigma=10.00, C=0.01\n",
      "[LibSVM]trying sigma=10.00, C=0.03\n",
      "[LibSVM]trying sigma=10.00, C=0.10\n",
      "[LibSVM]trying sigma=10.00, C=0.30\n",
      "[LibSVM]trying sigma=10.00, C=1.00\n",
      "[LibSVM]trying sigma=10.00, C=3.00\n",
      "[LibSVM]trying sigma=10.00, C=10.00\n",
      "[LibSVM]trying sigma=10.00, C=30.00\n",
      "[LibSVM]trying sigma=30.00, C=0.01\n",
      "[LibSVM]trying sigma=30.00, C=0.03\n",
      "[LibSVM]trying sigma=30.00, C=0.10\n",
      "[LibSVM]trying sigma=30.00, C=0.30\n",
      "[LibSVM]trying sigma=30.00, C=1.00\n",
      "[LibSVM]trying sigma=30.00, C=3.00\n",
      "[LibSVM]trying sigma=30.00, C=10.00\n",
      "[LibSVM]trying sigma=30.00, C=30.00\n",
      "[LibSVM][[5.6500e-01 1.0000e-02 1.0000e-02]\n",
      " [5.6500e-01 1.0000e-02 3.0000e-02]\n",
      " [5.3900e-01 1.0000e-02 1.0000e-01]\n",
      " [5.0715e-01 1.0000e-02 3.0000e-01]\n",
      " [4.9090e-01 1.0000e-02 1.0000e+00]\n",
      " [4.9090e-01 1.0000e-02 3.0000e+00]\n",
      " [4.9090e-01 1.0000e-02 1.0000e+01]\n",
      " [4.9090e-01 1.0000e-02 3.0000e+01]\n",
      " [5.6500e-01 3.0000e-02 1.0000e-02]\n",
      " [5.6500e-01 3.0000e-02 3.0000e-02]\n",
      " [5.2990e-01 3.0000e-02 1.0000e-01]\n",
      " [4.9155e-01 3.0000e-02 3.0000e-01]\n",
      " [4.9025e-01 3.0000e-02 1.0000e+00]\n",
      " [4.9090e-01 3.0000e-02 3.0000e+00]\n",
      " [4.9090e-01 3.0000e-02 1.0000e+01]\n",
      " [4.9090e-01 3.0000e-02 3.0000e+01]\n",
      " [5.6500e-01 1.0000e-01 1.0000e-02]\n",
      " [5.6305e-01 1.0000e-01 3.0000e-02]\n",
      " [4.8960e-01 1.0000e-01 1.0000e-01]\n",
      " [4.9285e-01 1.0000e-01 3.0000e-01]\n",
      " [4.9220e-01 1.0000e-01 1.0000e+00]\n",
      " [4.9090e-01 1.0000e-01 3.0000e+00]\n",
      " [4.9025e-01 1.0000e-01 1.0000e+01]\n",
      " [4.9285e-01 1.0000e-01 3.0000e+01]\n",
      " [5.6500e-01 3.0000e-01 1.0000e-02]\n",
      " [4.9155e-01 3.0000e-01 3.0000e-02]\n",
      " [4.9285e-01 3.0000e-01 1.0000e-01]\n",
      " [5.1235e-01 3.0000e-01 3.0000e-01]\n",
      " [5.3055e-01 3.0000e-01 1.0000e+00]\n",
      " [5.2925e-01 3.0000e-01 3.0000e+00]\n",
      " [5.1950e-01 3.0000e-01 1.0000e+01]\n",
      " [5.1625e-01 3.0000e-01 3.0000e+01]\n",
      " [5.6500e-01 1.0000e+00 1.0000e-02]\n",
      " [5.6045e-01 1.0000e+00 3.0000e-02]\n",
      " [4.9870e-01 1.0000e+00 1.0000e-01]\n",
      " [5.0715e-01 1.0000e+00 3.0000e-01]\n",
      " [5.1495e-01 1.0000e+00 1.0000e+00]\n",
      " [5.2015e-01 1.0000e+00 3.0000e+00]\n",
      " [5.2210e-01 1.0000e+00 1.0000e+01]\n",
      " [5.1950e-01 1.0000e+00 3.0000e+01]\n",
      " [5.6500e-01 3.0000e+00 1.0000e-02]\n",
      " [5.6500e-01 3.0000e+00 3.0000e-02]\n",
      " [5.3055e-01 3.0000e+00 1.0000e-01]\n",
      " [4.9610e-01 3.0000e+00 3.0000e-01]\n",
      " [4.9220e-01 3.0000e+00 1.0000e+00]\n",
      " [5.0065e-01 3.0000e+00 3.0000e+00]\n",
      " [5.0975e-01 3.0000e+00 1.0000e+01]\n",
      " [5.1300e-01 3.0000e+00 3.0000e+01]\n",
      " [5.6500e-01 1.0000e+01 1.0000e-02]\n",
      " [5.6500e-01 1.0000e+01 3.0000e-02]\n",
      " [5.4355e-01 1.0000e+01 1.0000e-01]\n",
      " [5.1235e-01 1.0000e+01 3.0000e-01]\n",
      " [4.9610e-01 1.0000e+01 1.0000e+00]\n",
      " [4.9090e-01 1.0000e+01 3.0000e+00]\n",
      " [4.9090e-01 1.0000e+01 1.0000e+01]\n",
      " [4.9220e-01 1.0000e+01 3.0000e+01]\n",
      " [5.6500e-01 3.0000e+01 1.0000e-02]\n",
      " [5.6500e-01 3.0000e+01 3.0000e-02]\n",
      " [5.4485e-01 3.0000e+01 1.0000e-01]\n",
      " [5.1235e-01 3.0000e+01 3.0000e-01]\n",
      " [4.9740e-01 3.0000e+01 1.0000e+00]\n",
      " [4.9155e-01 3.0000e+01 3.0000e+00]\n",
      " [4.9090e-01 3.0000e+01 1.0000e+01]\n",
      " [4.9090e-01 3.0000e+01 3.0000e+01]]\n",
      "0.1\n",
      "0.1\n"
     ]
    }
   ],
   "source": [
    "## ========== Part 7: Training SVM with RBF Kernel (Dataset 3) ==========\n",
    "\n",
    "#  This is a different dataset that you can use to experiment with. Try\n",
    "#  different values of C and sigma here.\n",
    "# \n",
    "\n",
    "# Load from ex6data3: \n",
    "# You will have X, y in your environment\n",
    "#laredy loaded in last part\n",
    "Xval = mat[\"Xval\"]\n",
    "yval = mat[\"yval\"]\n",
    "\n",
    "# Try different SVM Parameters here\n",
    "C, sigma = dataset3Params(X, y, Xval, yval)\n"
   ]
  },
  {
   "cell_type": "markdown",
   "metadata": {},
   "source": [
    "Finally, we use these parameters to train a SVM model and visualize its boundaries"
   ]
  },
  {
   "cell_type": "code",
   "execution_count": null,
   "metadata": {},
   "outputs": [],
   "source": [
    "# train model on training corpus with current sigma and C\n",
    "model = svmTrain(X, y, C, \"gaussian\", sigma=sigma)\n",
    "plt.close()\n",
    "plt.figure(figsize=(12,8))\n",
    "visualizeBoundary(X, y, model)"
   ]
  },
  {
   "cell_type": "markdown",
   "metadata": {},
   "source": [
    "#  Spam Classification with SVMs\n",
    "\n",
    "Now that we've applied SVMs to datasets and tuned their parameters, we can apply them to a more real-world application: spam classification (or curation ;).\n",
    "\n",
    "With a trained SVM we'll determine whether an unseen email is spam (``y=1``) or not spam (``y=0``).\n",
    "\n",
    "## Vectorizing emails\n",
    "\n",
    "In order to turn email text into training data that we can use in an SVM, we first need to establish a pipeline to turn each of the emails into a feature vector.\n",
    "\n",
    "The data we'll be working with comes from the [SpamAssassin Public Corpus](http://csmining.org/index.php/spam-assassin-datasets.html) and contains only the body of the email (without the headers).\n",
    "\n",
    "Doing some data exploration can help us see how we can process these emails to eventually vectorize them\n",
    "\n",
    "Many email services today provide spam filters that are able to classify emails into spam and non-spam email with high accuracy. In this part of the exercise, you will use SVMs to build your own spam filter.\n",
    "\n",
    "You will be training a classifier to classify whether a given email, x, is spam (y = 1) or non-spam (y = 0). In particular, you need to convert each email into a feature vector x 2 Rn. The following parts of the exercise will walk you through how such a feature vector can be constructed from an email."
   ]
  },
  {
   "cell_type": "code",
   "execution_count": 59,
   "metadata": {},
   "outputs": [],
   "source": [
    "def readFile(filename):\n",
    "    #READFILE reads a file and returns its entire contents \n",
    "    #   file_contents = READFILE(filename) reads a file and returns its entire\n",
    "    #   contents in file_contents\n",
    "    #\n",
    "\n",
    "    # Load File\n",
    "    try:\n",
    "        with open(filename, 'r') as openFile:\n",
    "            file_contents = openFile.read()\n",
    "    except:\n",
    "        file_contents = ''\n",
    "        print('Unable to open {:s}'.format(filename))\n",
    "\n",
    "    return file_contents"
   ]
  },
  {
   "cell_type": "code",
   "execution_count": 61,
   "metadata": {},
   "outputs": [
    {
     "name": "stdout",
     "output_type": "stream",
     "text": [
      "Preprocessing sample email (emailSample1.txt)\n",
      "> Anyone knows how much it costs to host a web portal ?\n",
      ">\n",
      "Well, it depends on how many visitors you're expecting.\n",
      "This can be anywhere from less than 10 bucks a month to a couple of $100. \n",
      "You should checkout http://www.rackspace.com/ or perhaps Amazon EC2 \n",
      "if youre running something big..\n",
      "\n",
      "To unsubscribe yourself from this mailing list, send an email to:\n",
      "groupname-unsubscribe@egroups.com\n",
      "\n",
      "\n"
     ]
    }
   ],
   "source": [
    "## ==================== Part 1: Email Preprocessing ====================\n",
    "#  To use an SVM to classify emails into Spam v.s. Non-Spam, you first need\n",
    "#  to convert each email into a vector of features. In this part, you will\n",
    "#  implement the preprocessing steps for each email. You should\n",
    "#  complete the code in processEmail.m to produce a word indices vector\n",
    "#  for a given email.\n",
    "\n",
    "print('Preprocessing sample email (emailSample1.txt)')\n",
    "\n",
    "# Extract Features\n",
    "file_contents = readFile('data/svm/emailSample1.txt')\n",
    "print(file_contents)"
   ]
  },
  {
   "cell_type": "markdown",
   "metadata": {},
   "source": [
    "### Feature engineering\n",
    "\n",
    "Items like email addresses, URLs, numbers and dollar amounts can be normalized. Different emails make reference to distinct specific addresses and amounts, but for our purposes it makes sense to treat them all as the same kind of entity. \n",
    "\n",
    "For instance, we can replace all URLs for the string ``httpaddr`` to indicate that the email had a URL at that location. This makes it possible for the presence or absence of a URL to be a feature to be used by the spam classifier, instead of having a feature for every URL possible. Given that spam emails tend to use odd, unique-looking URLs, we can save a lot of features with normalization.\n",
    "\n",
    "Normalizing text this way usually has the effect of [improving classifier performance](https://nlp.stanford.edu/IR-book/html/htmledition/features-for-text-1.html).\n",
    "\n",
    "Choosing which words we use in the classifier is also important. For this exercise, the most frequent words have already been selected and are included in ``vocab.txt``. Rare words that occur only in a few emails could throw the classifier off by causing it to overfit. The vocabulary list was chosen by selecting words with a minimum frequency of 100 across the whole SpamAssassin corpus. Our feature set consists of only 1899 words, but in the real world we can easily have vocabulary lists of tens of thousands of tokens.\n",
    "\n",
    "See the comments on the preprocessing code below to see more details on how each email is processed and normalized."
   ]
  },
  {
   "cell_type": "code",
   "execution_count": 62,
   "metadata": {},
   "outputs": [],
   "source": [
    "def getVocabList():\n",
    "    #GETVOCABLIST reads the fixed vocabulary list in vocab.txt and returns a\n",
    "    #cell array of the words\n",
    "    #   vocabList = GETVOCABLIST() reads the fixed vocabulary list in vocab.txt \n",
    "    #   and returns a cell array of the words in vocabList.\n",
    "\n",
    "\n",
    "    ## Read the fixed vocabulary list\n",
    "    with open('data/svm/vocab.txt', 'r') as vocabFile:\n",
    "\n",
    "        # Store all dictionary words in dictionary vocabList\n",
    "        vocabList = {}\n",
    "        for line in vocabFile.readlines():\n",
    "            i, word = line.split()\n",
    "            vocabList[word] = int(i)\n",
    "\n",
    "    return vocabList"
   ]
  },
  {
   "cell_type": "code",
   "execution_count": 66,
   "metadata": {},
   "outputs": [],
   "source": [
    "from nltk.stem.porter import *\n",
    "import re\n",
    "def processEmail(email_contents,verbose=False):\n",
    "    #PROCESSEMAIL preprocesses a the body of an email and\n",
    "    #returns a list of word_indices \n",
    "    #   word_indices = PROCESSEMAIL(email_contents) preprocesses \n",
    "    #   the body of an email and returns a list of indices of the \n",
    "    #   words contained in the email. \n",
    "    #\n",
    "\n",
    "    # Load Vocabulary\n",
    "    vocabList = getVocabList()\n",
    "\n",
    "    # Init return value\n",
    "    word_indices = []\n",
    "\n",
    "    # ========================== Preprocess Email ===========================\n",
    "\n",
    "    # Find the Headers ( \\n\\n and remove )\n",
    "    # Uncomment the following lines if you are working with raw emails with the\n",
    "    # full headers\n",
    "\n",
    "    # hdrstart = email_contents.find(\"\\n\\n\")\n",
    "    # if hdrstart:\n",
    "    #     email_contents = email_contents[hdrstart:]\n",
    "\n",
    "    # Lower case\n",
    "    email_contents = email_contents.lower()\n",
    "\n",
    "    # Strip all HTML\n",
    "    # Looks for any expression that starts with < and ends with > and replace\n",
    "    # and does not have any < or > in the tag it with a space\n",
    "    email_contents = re.sub('<[^<>]+>', ' ', email_contents)\n",
    "\n",
    "    # Handle Numbers\n",
    "    # Look for one or more characters between 0-9\n",
    "    email_contents = re.sub('[0-9]+', 'number', email_contents)\n",
    "\n",
    "    # Handle URLS\n",
    "    # Look for strings starting with http:// or https://\n",
    "    email_contents = re.sub('(http|https)://[^\\s]*', 'httpaddr', email_contents)\n",
    "\n",
    "    # Handle Email Addresses\n",
    "    # Look for strings with @ in the middle\n",
    "    email_contents = re.sub('[^\\s]+@[^\\s]+', 'emailaddr', email_contents)\n",
    "\n",
    "    # Handle $ sign\n",
    "    email_contents = re.sub('[$]+', 'dollar', email_contents)\n",
    "\n",
    "\n",
    "    # ========================== Tokenize Email ===========================\n",
    "\n",
    "    # Output the email to screen as well\n",
    "    if verbose: print('\\n==== Processed Email ====\\n\\n')\n",
    "\n",
    "    # Process file\n",
    "    l = 0\n",
    "\n",
    "    # Slightly different order from matlab version\n",
    "\n",
    "    # Split and also get rid of any punctuation\n",
    "    # regex may need further debugging...\n",
    "    email_contents = re.split(r'[@$/#.-:&\\*\\+=\\[\\]?!(){},\\'\\'\\\">_<;%\\s\\n\\r\\t]+', email_contents)\n",
    "\n",
    "    stemmer = PorterStemmer()\n",
    "    \n",
    "    for token in email_contents:\n",
    "\n",
    "        # Remove any non alphanumeric characters\n",
    "        token = re.sub('[^a-zA-Z0-9]', '', token)\n",
    "\n",
    "        # Stem the word \n",
    "        token = stemmer.stem(token.strip())\n",
    "\n",
    "        # Skip the word if it is too short\n",
    "        if len(token) < 1:\n",
    "           continue\n",
    "\n",
    "        # Look up the word in the dictionary and add to word_indices if\n",
    "        # found\n",
    "        # ====================== YOUR CODE HERE ======================\n",
    "        # Instructions: Fill in this function to add the index of str to\n",
    "        #               word_indices if it is in the vocabulary. At this point\n",
    "        #               of the code, you have a stemmed word from the email in\n",
    "        #               the variable str. You should look up str in the\n",
    "        #               vocabulary list (vocabList). If a match exists, you\n",
    "        #               should add the index of the word to the word_indices\n",
    "        #               vector. Concretely, if str = 'action', then you should\n",
    "        #               look up the vocabulary list to find where in vocabList\n",
    "        #               'action' appears. For example, if vocabList{18} =\n",
    "        #               'action', then, you should add 18 to the word_indices \n",
    "        #               vector (e.g., word_indices = [word_indices ; 18]; ).\n",
    "        # \n",
    "        # Note: vocabList{idx} returns a the word with index idx in the\n",
    "        #       vocabulary list.\n",
    "        # \n",
    "        # Note: You can use strcmp(str1, str2) to compare two strings (str1 and\n",
    "        #       str2). It will return 1 only if the two strings are equivalent.\n",
    "        #\n",
    "\n",
    "        idx = vocabList[token] if token in vocabList else 0\n",
    "\n",
    "        # only add entries which are in vocabList\n",
    "        #   i.e. those with ind ~= 0, \n",
    "        #        given that ind is assigned 0 if str is not found in vocabList\n",
    "        if idx > 0:\n",
    "            word_indices.append(idx)\n",
    "\n",
    "        # =============================================================\n",
    "\n",
    "\n",
    "        # Print to screen, ensuring that the output lines are not too long\n",
    "        if l + len(token) + 1 > 78:\n",
    "            if verbose: print(\"\")\n",
    "            l = 0\n",
    "        if verbose: print('{:s}'.format(token)),\n",
    "        l = l + len(token) + 1\n",
    "\n",
    "    # Print footer\n",
    "    if verbose: print('\\n\\n=========================\\n')\n",
    "\n",
    "    return word_indices"
   ]
  },
  {
   "cell_type": "markdown",
   "metadata": {},
   "source": [
    "We can compare the email before processing...\n",
    "\n",
    "---\n"
   ]
  },
  {
   "cell_type": "code",
   "execution_count": 67,
   "metadata": {},
   "outputs": [
    {
     "name": "stdout",
     "output_type": "stream",
     "text": [
      "> Anyone knows how much it costs to host a web portal ?\n",
      ">\n",
      "Well, it depends on how many visitors you're expecting.\n",
      "This can be anywhere from less than 10 bucks a month to a couple of $100. \n",
      "You should checkout http://www.rackspace.com/ or perhaps Amazon EC2 \n",
      "if youre running something big..\n",
      "\n",
      "To unsubscribe yourself from this mailing list, send an email to:\n",
      "groupname-unsubscribe@egroups.com\n",
      "\n",
      "\n"
     ]
    }
   ],
   "source": [
    "print(file_contents)"
   ]
  },
  {
   "cell_type": "markdown",
   "metadata": {},
   "source": [
    "---\n",
    "...and after processing, where we end up with a list of words."
   ]
  },
  {
   "cell_type": "code",
   "execution_count": 68,
   "metadata": {},
   "outputs": [
    {
     "name": "stdout",
     "output_type": "stream",
     "text": [
      "\n",
      "==== Processed Email ====\n",
      "\n",
      "\n",
      "anyon\n",
      "know\n",
      "how\n",
      "much\n",
      "it\n",
      "cost\n",
      "to\n",
      "host\n",
      "a\n",
      "web\n",
      "portal\n",
      "well\n",
      "it\n",
      "depend\n",
      "on\n",
      "how\n",
      "mani\n",
      "\n",
      "visitor\n",
      "you\n",
      "re\n",
      "expect\n",
      "thi\n",
      "can\n",
      "be\n",
      "anywher\n",
      "from\n",
      "less\n",
      "than\n",
      "number\n",
      "buck\n",
      "a\n",
      "month\n",
      "\n",
      "to\n",
      "a\n",
      "coupl\n",
      "of\n",
      "dollarnumb\n",
      "you\n",
      "should\n",
      "checkout\n",
      "httpaddr\n",
      "or\n",
      "perhap\n",
      "amazon\n",
      "ecnumb\n",
      "\n",
      "if\n",
      "your\n",
      "run\n",
      "someth\n",
      "big\n",
      "to\n",
      "unsubscrib\n",
      "yourself\n",
      "from\n",
      "thi\n",
      "mail\n",
      "list\n",
      "send\n",
      "an\n",
      "\n",
      "email\n",
      "to\n",
      "emailaddr\n",
      "\n",
      "\n",
      "=========================\n",
      "\n",
      "Word Indices: \n",
      " [86, 916, 794, 1077, 883, 370, 1699, 790, 1822, 1831, 883, 431, 1171, 794, 1002, 1893, 1364, 592, 1676, 238, 162, 89, 688, 945, 1663, 1120, 1062, 1699, 375, 1162, 479, 1893, 1510, 799, 1182, 1237, 810, 1895, 1440, 1547, 181, 1699, 1758, 1896, 688, 1676, 992, 961, 1477, 71, 530, 1699, 531]\n",
      "\n",
      "\n",
      "\n"
     ]
    }
   ],
   "source": [
    "word_indices  = processEmail(file_contents,True)\n",
    "\n",
    "# Print Stats\n",
    "print('Word Indices: ')\n",
    "print(' {:s}'.format(str(word_indices)))\n",
    "print('\\n\\n')"
   ]
  },
  {
   "cell_type": "markdown",
   "metadata": {},
   "source": [
    "### Feature extraction\n",
    "\n",
    "From here, we can now turn emails into vectors in $\\mathbb{R}^{n}$ (vectors with $n$ terms or $n$ dimensions), where $n$ is the size of our vocabulary, 1899.\n",
    "\n",
    "Each vector derived from an email will represent the presence in the email (1) or absence from the email (0) of each of the words of the vocabulary.\n",
    "\n",
    "``emailFeatures()`` below extracts these features from emails."
   ]
  },
  {
   "cell_type": "code",
   "execution_count": 69,
   "metadata": {},
   "outputs": [],
   "source": [
    "def emailFeatures(word_indices):\n",
    "    #EMAILFEATURES takes in a word_indices vector and produces a feature vector\n",
    "    #from the word indices\n",
    "    #   x = EMAILFEATURES(word_indices) takes in a word_indices vector and \n",
    "    #   produces a feature vector from the word indices. \n",
    "\n",
    "    # Total number of words in the dictionary\n",
    "    n = 1899\n",
    "    # You need to return the following variables correctly.\n",
    "    x = np.zeros((n, 1))\n",
    "\n",
    "    \n",
    "    # iterate over idx items in word_indices\n",
    "    for idx in word_indices:\n",
    "        # assign 1 to index idx in x\n",
    "        x[idx] = 1\n",
    "    return x"
   ]
  },
  {
   "cell_type": "markdown",
   "metadata": {},
   "source": [
    "Turning the email above into a vector now consists of extracting its features! Below we can see how many elements of its feature vector are nonzero."
   ]
  },
  {
   "cell_type": "code",
   "execution_count": 70,
   "metadata": {},
   "outputs": [
    {
     "name": "stdout",
     "output_type": "stream",
     "text": [
      "Extracting features from sample email (emailSample1.txt)\n",
      "Length of feature vector: 1899\n",
      "Number of non-zero entries: 45\n"
     ]
    }
   ],
   "source": [
    "## ==================== Part 2: Feature Extraction ====================\n",
    "#  Now, you will convert each email into a vector of features in R^n. \n",
    "#  You should complete the code in emailFeatures.m to produce a feature\n",
    "#  vector for a given email.\n",
    "\n",
    "print('Extracting features from sample email (emailSample1.txt)')\n",
    "\n",
    "# Extract Features\n",
    "#file_contents = rf.readFile('emailSample1.txt')\n",
    "#word_indices  = pe.processEmail(file_contents)\n",
    "features      = emailFeatures(word_indices)\n",
    "\n",
    "# Print Stats\n",
    "print('Length of feature vector: {:d}'.format( len(features) ) )\n",
    "print('Number of non-zero entries: {:d}'.format( np.sum(features > 0) ) )"
   ]
  },
  {
   "cell_type": "markdown",
   "metadata": {},
   "source": [
    "Of course, 45 is also the number of unique word indices in the list resulting from email preprocessing.\n",
    "\n",
    "## Training a spam classifier\n",
    "\n",
    "With a pipeline from email to feature vector established, we can work with the (previously preprocessed) emails feature vectors in the ``spamTrain.mat`` file. \n",
    "\n",
    "With these email feature vectors we will train a SVM spam classifier model."
   ]
  },
  {
   "cell_type": "code",
   "execution_count": 71,
   "metadata": {},
   "outputs": [
    {
     "name": "stdout",
     "output_type": "stream",
     "text": [
      "Training Linear SVM (Spam Classification)\n",
      "(this may take 1 to 2 minutes) ...\n",
      "[LibSVM]"
     ]
    }
   ],
   "source": [
    "## =========== Part 3: Train Linear SVM for Spam Classification ========\n",
    "#  In this section, you will train a linear classifier to determine if an\n",
    "#  email is Spam or Not-Spam.\n",
    "\n",
    "# Load the Spam Email dataset\n",
    "# You will have X, y in your environment\n",
    "mat = scipy.io.loadmat('data/svm/spamTrain.mat')\n",
    "X = mat[\"X\"]\n",
    "y = mat[\"y\"]\n",
    "\n",
    "y = y.flatten()\n",
    "\n",
    "print('Training Linear SVM (Spam Classification)')\n",
    "print('(this may take 1 to 2 minutes) ...')\n",
    "\n",
    "C = 0.1\n",
    "model = svmTrain(X, y, C, \"linear\")"
   ]
  },
  {
   "cell_type": "markdown",
   "metadata": {},
   "source": [
    "Then we make predictions on the training data from the model and assess their accuracy."
   ]
  },
  {
   "cell_type": "code",
   "execution_count": 73,
   "metadata": {},
   "outputs": [
    {
     "name": "stdout",
     "output_type": "stream",
     "text": [
      "Training Accuracy: 99.825000\n"
     ]
    }
   ],
   "source": [
    "p = model.predict(X)\n",
    "\n",
    "print('Training Accuracy: {:f}'.format( np.mean((p == y).astype(int)) * 100 ))"
   ]
  },
  {
   "cell_type": "markdown",
   "metadata": {},
   "source": [
    "And we evaluate the model on unseen test data."
   ]
  },
  {
   "cell_type": "code",
   "execution_count": 74,
   "metadata": {},
   "outputs": [
    {
     "name": "stdout",
     "output_type": "stream",
     "text": [
      "Evaluating the trained Linear SVM on a test set ...\n",
      "Xtest: (1000, 1899)\n",
      "Test Accuracy: 98.900000\n"
     ]
    }
   ],
   "source": [
    "## =================== Part 4: Test Spam Classification ================\n",
    "#  After training the classifier, we can evaluate it on a test set. We have\n",
    "#  included a test set in spamTest.mat\n",
    "\n",
    "# Load the test dataset\n",
    "# You will have Xtest, ytest in your environment\n",
    "mat = scipy.io.loadmat('data/svm/spamTest.mat')\n",
    "Xtest = mat[\"Xtest\"]\n",
    "ytest = mat[\"ytest\"]\n",
    "\n",
    "ytest = ytest.flatten()\n",
    "\n",
    "print('Evaluating the trained Linear SVM on a test set ...')\n",
    "print(\"Xtest:\",Xtest.shape)\n",
    "p = model.predict(Xtest)\n",
    "\n",
    "print('Test Accuracy: {:f}'.format( np.mean((p == ytest).astype(int)) * 100 ))"
   ]
  },
  {
   "cell_type": "markdown",
   "metadata": {},
   "source": [
    "## Understanding a spam classifier\n",
    "\n",
    "One advantage of using the linear kernel for our SVM is that we can peek inside the weights to better understand how it discriminates spam from non-spam (ham?) email.\n",
    "\n",
    "The following are the words that the classifier has most strongly linked to a positive spam classification."
   ]
  },
  {
   "cell_type": "code",
   "execution_count": 75,
   "metadata": {},
   "outputs": [
    {
     "name": "stdout",
     "output_type": "stream",
     "text": [
      "\n",
      "Top predictors of spam: \n",
      "\n",
      " our (0.500614) \n",
      " click (0.465916) \n",
      " remov (0.422869) \n",
      " guarante (0.383622) \n",
      " visit (0.367710) \n",
      " basenumb (0.345064) \n",
      " dollar (0.323632) \n",
      " will (0.269724) \n",
      " price (0.267298) \n",
      " pleas (0.261169) \n",
      " most (0.257298) \n",
      " nbsp (0.253941) \n",
      " lo (0.253467) \n",
      " ga (0.248297) \n",
      " hour (0.246404) \n"
     ]
    }
   ],
   "source": [
    "## ================= Part 5: Top Predictors of Spam ====================\n",
    "#  Since the model we are training is a linear SVM, we can inspect the\n",
    "#  weights learned by the model to understand better how it is determining\n",
    "#  whether an email is spam or not. The following code finds the words with\n",
    "#  the highest weights in the classifier. Informally, the classifier\n",
    "#  'thinks' that these words are the most likely indicators of spam.\n",
    "#\n",
    "\n",
    "# Sort the weights and obtain the vocabulary list\n",
    "w = model.coef_[0]\n",
    "\n",
    "# from http://stackoverflow.com/a/16486305/583834\n",
    "# reverse sorting by index\n",
    "indices = w.argsort()[::-1][:15]\n",
    "vocabList = sorted(getVocabList().keys())\n",
    "\n",
    "print('\\nTop predictors of spam: \\n');\n",
    "for idx in indices: \n",
    "    print( ' {:s} ({:f}) '.format( vocabList[idx], float(w[idx]) ) )"
   ]
  },
  {
   "cell_type": "markdown",
   "metadata": {},
   "source": [
    "## More spam! (Maybe!)\n",
    "\n",
    "Since we established a pipeline to process emails to determine whether they're spam or not, it makes sense to use it for at least a few more examples.\n",
    "\n",
    "Below we read a few normal and spam emails and show how the model classifies them."
   ]
  },
  {
   "cell_type": "code",
   "execution_count": 80,
   "metadata": {},
   "outputs": [
    {
     "name": "stdout",
     "output_type": "stream",
     "text": [
      "Spam Classification :1 indicates spam, 0 indicates not spam\n",
      "Processed data/svm/spamSample1.txt: 0 💩\n",
      "\n",
      "Processed data/svm/spamSample2.txt: 1 🙌\n",
      "\n",
      "Processed data/svm/emailSample1.txt: 0 👍\n",
      "\n",
      "Processed data/svm/emailSample2.txt: 0 👏\n",
      "\n"
     ]
    }
   ],
   "source": [
    "## =================== Part 6: Try Your Own Emails =====================\n",
    "#  Now that you've trained the spam classifier, you can use it on your own\n",
    "#  emails! In the starter code, we have included spamSample1.txt,\n",
    "#  spamSample2.txt, emailSample1.txt and emailSample2.txt as examples. \n",
    "#  The following code reads in one of these emails and then uses your \n",
    "#  learned SVM classifier to determine whether the email is Spam or \n",
    "#  Not Spam\n",
    "\n",
    "# Set the file to be read in (change this to spamSample2.txt,\n",
    "# emailSample1.txt or emailSample2.txt to see different predictions on\n",
    "# different emails types). Try your own emails as well!\n",
    "filenames = ['data/svm/spamSample1.txt','data/svm/spamSample2.txt',\\\n",
    "         'data/svm/emailSample1.txt','data/svm/emailSample2.txt']\n",
    "icons = ['💩','🙌','👍','👏']\n",
    "print(\"Spam Classification :1 indicates spam, 0 indicates not spam\")\n",
    "index =0\n",
    "for filename in filenames:\n",
    "    # Read and predict\n",
    "    file_contents = readFile(filename)\n",
    "    word_indices  = processEmail(file_contents)\n",
    "    x             = emailFeatures(word_indices)\n",
    "    p = model.predict(x.T)\n",
    "   \n",
    "    print('Processed {:s}: {:s} {:s}\\n'.format(filename, str(p[0]),icons[index]))\n",
    "    index=index+1"
   ]
  }
 ],
 "metadata": {
  "kernelspec": {
   "display_name": "Python 3",
   "language": "python",
   "name": "python3"
  },
  "language_info": {
   "codemirror_mode": {
    "name": "ipython",
    "version": 3
   },
   "file_extension": ".py",
   "mimetype": "text/x-python",
   "name": "python",
   "nbconvert_exporter": "python",
   "pygments_lexer": "ipython3",
   "version": "3.6.6"
  }
 },
 "nbformat": 4,
 "nbformat_minor": 2
}
