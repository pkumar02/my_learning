{
 "cells": [
  {
   "cell_type": "markdown",
   "metadata": {},
   "source": [
    "## Classification\n",
    "\n",
    "To attempt classification, one method is to use linear regression and map all predictions greater than 0.5 as a 1 and all less than 0.5 as a 0. However, this method doesn't work well because classification is not actually a linear function.\n",
    "\n",
    "The classification problem is just like the regression problem, except that the values we now want to predict take on only a small number of discrete values. For now, we will focus on the binary classification problem in which y can take on only two values, 0 and 1. (Most of what we say here will also generalize to the multiple-class case.) For instance, if we are trying to build a spam classifier for email, then $x^{(i)}$ may be some features of a piece of email, and y may be 1 if it is a piece of spam mail, and 0 otherwise. Hence, $y\\in { 0,1 }$. 0 is also called the negative class, and 1 the positive class, and they are sometimes also denoted by the symbols “-” and “+.” Given $x^{(i)}$, the corresponding $y^{(i)}$ is also called the label for the training example. \n",
    "\n",
    "### Hypothesis Representation\n",
    "\n",
    "We could approach the classification problem ignoring the fact that y is discrete-valued, and use our old linear regression algorithm to try to predict y given x. However, it is easy to construct examples where this method performs very poorly. Intuitively, it also doesn’t make sense for $\\theta(x)$ to take values larger than 1 or smaller than 0 when we know that $y\\in { 0,1 }$. To fix this, let’s change the form for our hypotheses $\\theta (x)$) to satisfy $\\leq h_\\theta(x) \\leq 10$. This is accomplished by plugging $\\theta^Tx$ into the Logistic Function.\n",
    "\n",
    "Our new form uses the \"`Sigmoid Function`,\" also called the \"`Logistic Function`\":\n",
    "\n",
    ">$\\begin{align*}& h_\\theta (x) = g ( \\theta^T x ) \\newline \\newline& z = \\theta^T x \\newline& g(z) = \\dfrac{1}{1 + e^{-z}}\\end{align*}$\n",
    "\n",
    "The following image shows us what the sigmoid function looks like:\n",
    "<img src=\"img/01_Logistic_function.png\">\n",
    "The function g(z), shown here, maps any real number to the (0, 1) interval, making it useful for transforming an arbitrary-valued function into a function better suited for classification.\n",
    "\n",
    "$\\theta(x)$ will give us the probability that our output is 1. For example, $\\theta(x)=0.7$ gives us a probability of 70% that our output is 1. Our probability that our prediction is 0 is just the complement of our probability that it is 1 (e.g. if probability that it is 1 is 70%, then the probability that it is 0 is 30%).\n",
    "$ $\n",
    "\n",
    ">$\\begin{align*}& h_\\theta(x) = P(y=1 | x ; \\theta) = 1 - P(y=0 | x ; \\theta) \\newline& P(y = 0 | x;\\theta) + P(y = 1 | x ; \\theta) = 1\\end{align*}$"
   ]
  },
  {
   "cell_type": "markdown",
   "metadata": {},
   "source": [
    "### Decision Boundary\n",
    "\n",
    "In order to get our discrete 0 or 1 classification, we can translate the output of the hypothesis function as follows:\n",
    "\n",
    ">$\\begin{align*} & h_\\theta(x)\\geq0.5\\to y=1 \\\\ & h_\\theta(x)<0\\to y=0 \\end{align*}$\n",
    "\n",
    "The way our logistic function g behaves is that when its input is greater than or equal to zero, its output is greater than or equal to 0.5:\n",
    "> $g(z)\\geq 0.5 \\quad  {when} \\quad  z\\geq 0$\n",
    "\n",
    "Remember.\n",
    ">$\\begin{align*}z=0, e^{0}=1 \\Rightarrow g(z)=1/2\\newline z \\to \\infty, e^{-\\infty} \\to 0 \\Rightarrow g(z)=1 \\newline z \\to -\\infty, e^{\\infty}\\to \\infty \\Rightarrow g(z)=0 \\end{align*}$\n",
    "\n",
    "So if our input to g is $\\theta^T X$, then that means:\n",
    ">$\\begin{align*}& h_\\theta(x) = g(\\theta^T x) \\geq 0.5 \\newline& when \\; \\theta^T x \\geq 0\\end{align*}$\n",
    "\n",
    "From these statements we can now say:\n",
    ">$\\begin{align*} & h_\\theta(x)\\geq 0 \\implies y=1 \\\\& \\theta^Tx<0 \\implies y=0 \\end{align*}$\n",
    "\n",
    "The **decision boundary** is the line that separates the area where y = 0 and where y = 1. It is created by our hypothesis function.\n",
    "\n",
    "Example:\n",
    "\n",
    ">$\\begin{align*}& \\theta = \\begin{bmatrix}5 \\newline -1 \\newline 0\\end{bmatrix} \\newline & y = 1 \\; if \\; 5 + (-1) x_1 + 0 x_2 \\geq 0 \\newline & 5 - x_1 \\geq 0 \\newline & - x_1 \\geq -5 \\newline& x_1 \\leq 5 \\newline \\end{align*}$\n",
    "\n",
    "In this case, our decision boundary is a straight vertical line placed on the graph where $x_1=5$, and everything to the left of that denotes y = 1, while everything to the right denotes y = 0.\n",
    "\n",
    "Again, the input to the sigmoid function g(z) (e.g. $\\theta^T X$) doesn't need to be linear, and could be a function that describes a circle (e.g. $\\theta_0 + \\theta_1 x_1^2 +\\theta_2 x_2^2$) or any shape to fit our data."
   ]
  },
  {
   "cell_type": "markdown",
   "metadata": {},
   "source": [
    "# Logistic Regression Model\n",
    "\n",
    "### Cost Function\n",
    "\n",
    "We cannot use the same cost function that we use for linear regression because the Logistic Function will cause the output to be wavy, causing many local optima. In other words, it will not be a convex function.\n",
    "\n",
    "Instead, our cost function for logistic regression looks like:\n",
    "\n",
    ">$\\begin{align*}& J(\\theta) = \\dfrac{1}{m} \\sum_{i=1}^m \\mathrm{Cost}(h_\\theta(x^{(i)}),y^{(i)}) \\newline & \\mathrm{Cost}(h_\\theta(x),y) = -\\log(h_\\theta(x)) \\; & \\text{if y = 1} \\newline & \\mathrm{Cost}(h_\\theta(x),y) = -\\log(1-h_\\theta(x)) \\; & \\text{if y = 0}\\end{align*}$\n",
    "\n",
    "When y = 1, we get the following plot for $J(\\theta)$ vs$h_\\theta (x)$:\n",
    "<img src=\"img/01-LRM.png\">\n",
    "Similarly, when y = 0, we get the following plot for $J(\\theta)\\;\\;\\texttt{vs}\\;\\;h_\\theta (x)$:\n",
    "<img src=\"img/02-LRM.png\">\n",
    ">$\\begin{align*}& \\mathrm{Cost}(h_\\theta(x),y) = 0 \\text{ if } h_\\theta(x) = y \\newline & \\mathrm{Cost}(h_\\theta(x),y) \\rightarrow \\infty \\text{ if } y = 0 \\; \\mathrm{and} \\; h_\\theta(x) \\rightarrow 1 \\newline & \\mathrm{Cost}(h_\\theta(x),y) \\rightarrow \\infty \\text{ if } y = 1 \\; \\mathrm{and} \\; h_\\theta(x) \\rightarrow 0 \\newline \\end{align*}$\n",
    "\n",
    "If our correct answer 'y' is 0, then the cost function will be 0 if our hypothesis function also outputs 0. If our hypothesis approaches 1, then the cost function will approach infinity.\n",
    "\n",
    "If our correct answer 'y' is 1, then the cost function will be 0 if our hypothesis function outputs 1. If our hypothesis approaches 0, then the cost function will approach infinity.\n",
    "\n",
    "Note that writing the cost function in this way guarantees that $J(\\theta)$ is convex for logistic regression."
   ]
  },
  {
   "cell_type": "markdown",
   "metadata": {},
   "source": [
    "### Simplified Cost Function and Gradient Descent\n",
    "\n",
    "Note: \\[6:53 - the gradient descent equation should have a 1/m factor\\]\n",
    "\n",
    "We can compress our cost function's two conditional cases into one case:\n",
    "\n",
    "$\\mathrm{Cost}(h_\\theta(x),y) = - y \\; \\log(h_\\theta(x)) - (1 - y) \\log(1 - h_\\theta(x))$\n",
    "\n",
    "Notice that when y is equal to 1, then the second term $(1-y)\\log(1-h_\\theta(x))$ will be zero and will not affect the result. If y is equal to 0, then the first term $-y \\log(h_\\theta(x))$ will be zero and will not affect the result.\n",
    "\n",
    "We can fully write out our entire cost function as follows:\n",
    ">$J(\\theta) = - \\frac{1}{m} \\displaystyle \\sum_{i=1}^m [y^{(i)}\\log (h_\\theta (x^{(i)})) + (1 - y^{(i)})\\log (1 - h_\\theta(x^{(i)}))]$\n",
    "\n",
    "A vectorized implementation is:\n",
    "\n",
    ">$\\begin{align*} & h=g(X\\theta) \\\\ & J(\\theta) =  \\frac{1}{m}.\\big( \\text{−} y^{T}log⁡(h) \\text{−} (1\\text{−} y)^{T}log⁡(1\\text{−} h)\\big) \\end{align*}$\n",
    "\n",
    "#### Gradient Descent\n",
    "\n",
    "Remember that the general form of gradient descent is:\n",
    "\n",
    ">$\\begin{align*} & \\text{Repeat} \\quad \\lbrace \\\\& \\theta_j:=\\theta_j \\text{−} \\alpha \\frac{\\partial}{\\partial \\theta_j} J(\\theta) \\\\  & \\rbrace \\end{align*}$\n",
    "\n",
    "We can work out the derivative part using calculus to get:\n",
    "\n",
    ">$\\begin{align*} & \\text{Repeat} \\quad  \\lbrace \\\\& \\theta_j:=\\theta_j \\text{−}  \\frac{\\alpha}{m} \\displaystyle \\sum_{i=1}^m\\big( h_\\theta(x^{(i)})\\text{−} y^{(i)}\\big)x_j^{(i)} \\\\ & \\rbrace\\end{align*}$\n",
    "\n",
    "Notice that this algorithm is identical to the one we used in linear regression. We still have to simultaneously update all values in theta.\n",
    "\n",
    "A vectorized implementation is:\n",
    "\n",
    ">$\\theta := \\theta - \\frac{\\alpha}{m} X^{T} (g(X \\theta ) - \\vec{y})$"
   ]
  },
  {
   "cell_type": "markdown",
   "metadata": {},
   "source": [
    "## Advanced Optimization\n",
    "\n",
    "Note: \\[7:35 - '100' should be 100 instead. The value provided should be an integer and not a character string.\\]\n",
    "\n",
    "\"`Conjugate gradient`\", \"`BFGS`\", and \"`L-BFGS`\" are more sophisticated, faster ways to optimize $\\theta$ that can be used instead of gradient descent. We suggest that you should not write these more sophisticated algorithms yourself (unless you are an expert in numerical computing) but use the libraries instead, as they're already tested and highly optimized. Octave provides them.\n",
    "\n",
    "We first need to provide a function that evaluates the following two functions for a given input value $\\theta$:\n",
    "\n",
    ">$J(\\theta) \\\\ \\frac{\\partial}{\\partial \\theta_j}J(\\theta)$\n",
    "\n",
    "We can write a single function that returns both of these:\n",
    "\n",
    "```octave\n",
    "    function [jVal, gradient] = costFunction(theta)\n",
    "      jVal = [...code to compute J(theta)...];\n",
    "      gradient = [...code to compute derivative of J(theta)...];\n",
    "    end\n",
    "```\n",
    "\n",
    "Then we can use octave's \"`fminunc()`\" optimization algorithm along with the \"`optimset()`\" function that creates an object containing the options we want to send to \"`fminunc()`\". (Note: the value for MaxIter should be an integer, not a character string - errata in the video at 7:30)\n",
    "\n",
    "```octave\n",
    "    options = optimset('GradObj', 'on', 'MaxIter', 100);\n",
    "    initialTheta = zeros(2,1);\n",
    "       [optTheta, functionVal, exitFlag] = fminunc(@costFunction, initialTheta, options);\n",
    "```\n",
    "We give to the function \"`fminunc()`\" our cost function, our initial vector of theta values, and the \"options\" object that we created beforehand.\n",
    "\n",
    "In python, the `scipy.optimize` package provides several commonly used optimization algorithms. A detailed listing is available: [scipy.optimize](https://docs.scipy.org/doc/scipy/reference/optimize.html#module-scipy.optimize) (can also be found by help(scipy.optimize)).\n",
    "\n",
    "The module contains, unconstrained and constrained minimization of multivariate scalar functions ([minimize](https://docs.scipy.org/doc/scipy-0.18.1/reference/generated/scipy.optimize.minimize.html#scipy.optimize.minimize)) using a variety of algorithms (e.g. `BFGS`, `Nelder-Mead simplex`, `Newton Conjugate Gradient`, `COBYLA` or `SLSQP`)\n",
    "\n",
    "Below, the example to demonstrate the basic usage.\n",
    "\n",
    "The `minimize` function provides a common interface to unconstrained and constrained minimization algorithms for multivariate scalar functions in `scipy.optimize`. To demonstrate the minimization function consider the problem of minimizing the Rosenbrock function of $\\mathit{N}$ variables:\n",
    "\n",
    ">$ \\mathrm{f}(x)= \\displaystyle \\sum_{i=1}^{N-1} 100\\big(x_i-x_{i-1}^{2}\\big)^{2} + \\big(1-x_{i-1}\\big)^{2} $\n",
    "\n",
    "The minimum value of this function is 0 which is achieved when\n",
    "\n",
    "Note that the Rosenbrock function and its derivatives are included in scipy.optimize. The implementations shown in the following sections provide examples of how to define an objective function as well as its jacobian and hessian functions.\n",
    "\n",
    "### Nelder-Mead Simplex algorithm (method='Nelder-Mead')\n",
    "\n",
    "In the example below, the minimize routine is used with the Nelder-Mead simplex algorithm (selected through the method parameter):"
   ]
  },
  {
   "cell_type": "code",
   "execution_count": 5,
   "metadata": {},
   "outputs": [],
   "source": [
    "import numpy as np\n",
    "from scipy.optimize import minimize\n",
    "def rosen(x):\n",
    "    \"\"\"The Rosenbrock function\"\"\"\n",
    "    return sum(100.0*(x[1:]-x[:-1]**2.0)**2.0 + (1-x[:-1])**2.0)"
   ]
  },
  {
   "cell_type": "code",
   "execution_count": 6,
   "metadata": {},
   "outputs": [
    {
     "name": "stdout",
     "output_type": "stream",
     "text": [
      "Optimization terminated successfully.\n",
      "         Current function value: 0.000000\n",
      "         Iterations: 339\n",
      "         Function evaluations: 571\n",
      "x: [1. 1. 1. 1. 1.]\n"
     ]
    }
   ],
   "source": [
    "x0 = np.array([1.3, 0.7, 0.8, 1.9, 1.2])\n",
    "res0 = minimize(rosen, x0, method='nelder-mead',options={'xtol': 1e-8, 'disp': True})\n",
    "print('x:',res0.x)"
   ]
  },
  {
   "cell_type": "markdown",
   "metadata": {},
   "source": [
    "The simplex algorithm is probably the simplest way to minimize a fairly well-behaved function. It requires only function evaluations and is a good choice for simple minimization problems. However, because it does not use any gradient evaluations, it may take longer to find the minimum.\n",
    "\n",
    "Another optimization algorithm that needs only function calls to find the minimum is Powell’s method available by setting method='powell' in minimize."
   ]
  },
  {
   "cell_type": "markdown",
   "metadata": {},
   "source": [
    "### Broyden-Fletcher-Goldfarb-Shanno algorithm (method='BFGS')\n",
    "\n",
    "In order to converge more quickly to the solution, this routine uses the gradient of the objective function. If the gradient is not given by the user, then it is estimated using first-differences. The `Broyden-Fletcher-Goldfarb-Shanno (BFGS)` method typically requires fewer function calls than the simplex algorithm even when the gradient must be estimated.\n",
    "\n",
    "To demonstrate this algorithm, the Rosenbrock function is again used. The gradient of the Rosenbrock function is the vector:\n",
    "\n",
    "> $\\begin{align*} & \\displaystyle \\frac{\\partial f}{\\partial x_j} = \\displaystyle \\sum_{i=1}^{N} 200\\big(x_i-x_{i-1}^{2}\\big) \\big(\\delta_{i,j}-2x_{i-1}\\delta_{i-1,j}\\big) - 2\\big(1-x_{i-1}\\big)\\delta_{i-1,j} \\\\ & = 200\\big(x_j-x_{j-1}^{2}\\big) - 400x_j\\big(x_{j+1}-x_{j}^{2}\\big) - 2\\big(1-x_{j-1}\\big) \\end{align*}$\n",
    "\n",
    "This expression is valid for the interior derivatives. Special cases are\n",
    "\n",
    ">$\\begin{align*} & \\displaystyle \\frac{\\partial f}{\\partial x_0} = -400*x_0\\big(x_1-x_0^{2}\\big) - 2\\big(1-x_0\\big) \\\\&\n",
    "  \\displaystyle \\frac{\\partial f}{\\partial x_{N-1}} = 200*x_0\\big(x_{N-1}-x_{N-2}^{2}\\big) \\end{align*}$\n",
    "\n",
    "A Python function which computes this gradient is constructed by the code-segment:"
   ]
  },
  {
   "cell_type": "code",
   "execution_count": 7,
   "metadata": {},
   "outputs": [],
   "source": [
    "def rosen_der(x):\n",
    "     xm = x[1:-1]\n",
    "     xm_m1 = x[:-2]\n",
    "     xm_p1 = x[2:]\n",
    "     der = np.zeros_like(x)\n",
    "     der[1:-1] = 200*(xm-xm_m1**2) - 400*(xm_p1 - xm**2)*xm - 2*(1-xm)\n",
    "     der[0] = -400*x[0]*(x[1]-x[0]**2) - 2*(1-x[0])\n",
    "     der[-1] = 200*(x[-1]-x[-2]**2)\n",
    "     return der"
   ]
  },
  {
   "cell_type": "markdown",
   "metadata": {},
   "source": [
    "This gradient information is specified in the minimize function through the `jac` parameter as illustrated below."
   ]
  },
  {
   "cell_type": "code",
   "execution_count": 8,
   "metadata": {},
   "outputs": [
    {
     "name": "stdout",
     "output_type": "stream",
     "text": [
      "Optimization terminated successfully.\n",
      "         Current function value: 0.000000\n",
      "         Iterations: 25\n",
      "         Function evaluations: 30\n",
      "         Gradient evaluations: 30\n",
      "x: [1.00000004 1.0000001  1.00000021 1.00000044 1.00000092]\n"
     ]
    }
   ],
   "source": [
    "res = minimize(rosen, x0, method='BFGS', jac=rosen_der,options={'disp': True})\n",
    "print('x:',res.x)"
   ]
  },
  {
   "cell_type": "markdown",
   "metadata": {},
   "source": [
    "## Multiclass Classification: One-vs-all\n",
    "\n",
    "Now we will approach the classification of data when we have more than two categories. Instead of y = {0,1} we will expand our definition so that y = {0,1...n}.\n",
    "\n",
    "Since y = {0,1...n}, we divide our problem into n+1 (+1 because the index starts at 0) binary classification problems; in each one, we predict the probability that 'y' is a member of one of our classes.\n",
    "\n",
    "$\\begin{align*} & y \\in \\lbrace 0,1\\dots n \\rbrace \\\\ & h_\\theta^{(0)}(x)= P\\big(y=0\\big|x;\\theta\\big) \\\\ &  h_\\theta^{(1)}(x)= P\\big(y=1\\big|x;\\theta\\big) \\\\ & \\dots \\\\  & h_\\theta^{(n)}(x)= P\\big(y=n\\big|x;\\theta\\big) \\\\ & prediction=max_i( h_\\theta^{(i)}(x)) \\end{align*}$\n",
    "\n",
    "We are basically choosing one class and then lumping all the others into a single second class. We do this repeatedly, applying binary logistic regression to each case, and then use the hypothesis that returned the highest value as our prediction.\n",
    "\n",
    "The following image shows how one could classify 3 classes:\n",
    "<img src=\"img/03-LRM.png\">\n",
    "\n",
    "**To summarize**:\n",
    "\n",
    "Train a logistic regression classifier $h_\\theta(x)$ for each class `i` to predict the probability that `y = i` .\n",
    "\n",
    "To make a prediction on a new x, pick the class `i` that maximizes $h_\\theta (x)$"
   ]
  },
  {
   "cell_type": "markdown",
   "metadata": {},
   "source": [
    "## The Problem of Overfitting\n",
    "\n",
    "Consider the problem of predicting y from x ∈ R. The leftmost figure below shows the result of fitting a $y = \\theta_0 + \\theta_1x$ to a dataset. We see that the data doesn’t really lie on straight line, and so the fit is not very good.\n",
    "<img src=\"img/04-LRM.png\"/>\n",
    "Instead, if we had added an extra feature $x^2$ , and fit $y = \\theta_0 + \\theta_1x + \\theta_2x^2$ , then we obtain a slightly better fit to the data (See middle figure). Naively, it might seem that the more features we add, the better. However, there is also a danger in adding too many features: The rightmost figure is the result of fitting a $5^{th}$ order polynomial $y = \\sum_{j=0} ^5 \\theta_j x^j$. We see that even though the fitted curve passes through the data perfectly, we would not expect this to be a very good predictor of, say, housing prices (y) for different living areas (x). Without formally defining what these terms mean, we’ll say the figure on the left shows an instance of `underfitting`—in which the data clearly shows structure not captured by the model—and the figure on the right is an example of `overfitting`.\n",
    "\n",
    "**Underfitting**, or high bias, is when the form of our hypothesis function h maps poorly to the trend of the data. It is usually caused by a function that is too simple or uses too few features.\n",
    "At the other extreme, **overfitting**, or high variance, is caused by a hypothesis function that fits the available data but does not generalize well to predict new data. It is usually caused by a complicated function that creates a lot of unnecessary curves and angles unrelated to the data.\n",
    "\n",
    "This terminology is applied to both linear and logistic regression. There are two main options to address the issue of overfitting:\n",
    "\n",
    "1. Reduce the number of features:\n",
    "\n",
    "    * Manually select which features to keep.\n",
    "    * Use a model selection algorithm (studied later in the course).\n",
    "\n",
    "2. Regularization\n",
    "\n",
    "    * Keep all the features, but reduce the magnitude of parameters $\\theta_j$.\n",
    "    * Regularization works well when we have a lot of slightly useful features."
   ]
  },
  {
   "cell_type": "markdown",
   "metadata": {},
   "source": [
    "## Cost Function\n",
    "\n",
    "If we have overfitting from our hypothesis function, we can reduce the weight that some of the terms in our function carry by increasing their cost.\n",
    "\n",
    "Say we wanted to make the following function more quadratic:\n",
    "\n",
    "$\\theta_0 + \\theta_1x + \\theta_2x^2 + \\theta_3x^3 + \\theta_4x^4$\n",
    "\n",
    "We'll want to eliminate the influence of $\\theta_3x$ and $\\theta_4x$ . Without actually getting rid of these features or changing the form of our hypothesis, we can instead modify our cost function:\n",
    "\n",
    ">$min_\\theta\\ \\dfrac{1}{2m}\\sum_{i=1}^m (h_\\theta(x^{(i)}) - y^{(i)})^2 + 1000\\cdot\\theta_3^2 + 1000\\cdot\\theta_4^2$\n",
    "\n",
    "We've added two extra terms at the end to inflate the cost of $\\theta_3$ and $\\theta_4$. Now, in order for the cost function to get close to zero, we will have to reduce the values of $\\theta_3$ and $\\theta_4$ to near zero. This will in turn greatly reduce the values of $\\theta_3x^3$ and $\\theta_4x^4$ in our hypothesis function. As a result, we see that the new hypothesis (depicted by the pink curve) looks like a quadratic function but fits the data better due to the extra small terms $\\theta_3x^3$ and $\\theta_4x^4$.\n",
    "\n",
    "<img src=\"img/05-LRM.png\">\n",
    "We could also regularize all of our theta parameters in a single summation as:\n",
    "\n",
    ">$min_\\theta\\ \\dfrac{1}{2m}\\ \\sum_{i=1}^m (h_\\theta(x^{(i)}) - y^{(i)})^2 + \\lambda\\ \\sum_{j=1}^n \\theta_j^2$\n",
    "\n",
    "The $\\lambda$, or lambda, is the regularization parameter. It determines how much the costs of our $\\theta$ parameters are inflated.\n",
    "\n",
    "Using the above cost function with the extra summation, we can smooth the output of our hypothesis function to reduce overfitting. If lambda is chosen to be too large, it may smooth out the function too much and cause underfitting. Hence, what would happen if $\\lambda = 0$ or is too small ?"
   ]
  },
  {
   "cell_type": "markdown",
   "metadata": {},
   "source": [
    "## Regularized Linear Regression\n",
    "\n",
    "\n",
    "\n",
    "We can apply regularization to both linear regression and logistic regression. We will approach linear regression first.\n",
    "Gradient Descent\n",
    "\n",
    "We will modify our gradient descent function to separate out θ0\\theta_0θ0​ from the rest of the parameters because we do not want to penalize $\\theta_0$\n",
    "\n",
    ">$\\begin{align*} & \\text{Repeat}\\ \\lbrace \\newline & \\ \\ \\ \\ \\theta_0 := \\theta_0 - \\alpha\\ \\frac{1}{m}\\ \\sum_{i=1}^m (h_\\theta(x^{(i)}) - y^{(i)})x_0^{(i)} \\newline & \\ \\ \\ \\ \\theta_j := \\theta_j - \\alpha\\ \\left[ \\left( \\frac{1}{m}\\ \\sum_{i=1}^m (h_\\theta(x^{(i)}) - y^{(i)})x_j^{(i)} \\right) + \\frac{\\lambda}{m}\\theta_j \\right] &\\ \\ \\ \\ \\ \\ \\ \\ \\ \\ j \\in \\lbrace 1,2...n\\rbrace\\newline & \\rbrace \\end{align*}$\n",
    "\n",
    "The term $\\frac{\\lambda}{m}\\theta_j$ performs our regularization. With some manipulation our update rule can also be represented as:\n",
    "\n",
    ">$\\theta_j := \\theta_j(1 - \\alpha\\frac{\\lambda}{m}) - \\alpha\\frac{1}{m}\\sum_{i=1}^m(h_\\theta(x^{(i)}) - y^{(i)})x_j^{(i)}$\n",
    "\n",
    "The first term in the above equation, $ - \\alpha\\frac{\\lambda}{m}$ will always be less than 1. Intuitively you can see it as reducing the value of $\\theta_j$ by some amount on every update. Notice that the second term is now exactly the same as it was before.\n",
    "Normal Equation\n",
    "\n",
    "Now let's approach regularization using the alternate method of the non-iterative normal equation.\n",
    "\n",
    "To add in regularization, the equation is the same as our original, except that we add another term inside the parentheses:\n",
    ">$\\begin{align*}& \\theta = \\left( X^TX + \\lambda \\cdot L \\right)^{-1} X^Ty \\newline& \\text{where}\\ \\ L = \\begin{bmatrix} 0 & & & & \\newline & 1 & & & \\newline & & 1 & & \\newline & & & \\ddots & \\newline & & & & 1 \\newline\\end{bmatrix}\\end{align*}$\n",
    "\n",
    "L is a matrix with 0 at the top left and 1's down the diagonal, with 0's everywhere else. It should have dimension $(n+1)×(n+1)$. Intuitively, this is the identity matrix (though we are not including $x_0$), multiplied with a single real number $\\lambda$.\n",
    "\n",
    "Recall that if m < n, then $X^TX$ is non-invertible. However, when we add the term $\\lambda⋅L$, then $X^TX + \\lambda⋅L$ becomes invertible."
   ]
  },
  {
   "cell_type": "markdown",
   "metadata": {},
   "source": [
    "## Regularized Logistic Regression\n",
    "\n",
    "We can regularize logistic regression in a similar way that we regularize linear regression. As a result, we can avoid overfitting. The following image shows how the regularized function, displayed by the pink line, is less likely to overfit than the non-regularized function represented by the blue line:\n",
    "\n",
    "<img src=\"img/06-LRM.png\">\n",
    "\n",
    "**Cost Function** \n",
    "\n",
    "Recall that our cost function for logistic regression was:\n",
    "\n",
    ">$J(\\theta) = - \\frac{1}{m} \\sum_{i=1}^m \\large[ y^{(i)}\\ \\log (h_\\theta (x^{(i)})) + (1 - y^{(i)})\\ \\log (1 - h_\\theta(x^{(i)})) \\large]$\n",
    "\n",
    "We can regularize this equation by adding a term to the end:\n",
    ">$J(\\theta) = - \\frac{1}{m} \\sum_{i=1}^m \\large[ y^{(i)}\\ \\log (h_\\theta (x^{(i)})) + (1 - y^{(i)})\\ \\log (1 - h_\\theta(x^{(i)}))\\large] + \\frac{\\lambda}{2m}\\sum_{j=1}^n \\theta_j^2$\n",
    "\n",
    "The second sum, $\\sum_{j=1}^n \\theta_j^2$ means to explicitly exclude the bias term, $\\theta_0$ I.e. the $\\theta$ vector is indexed from 0 to n (holding n+1 values, $\\theta_0$ through $\\theta_n$), and this sum explicitly skips $\\theta_0$, by running from 1 to n, skipping 0. Thus, when computing the equation, we should continuously update the two following equations:\n",
    "<img src=\"img/07-LRM.png\" align=\"left\">\n"
   ]
  }
 ],
 "metadata": {
  "kernelspec": {
   "display_name": "Python 3",
   "language": "python",
   "name": "python3"
  },
  "language_info": {
   "codemirror_mode": {
    "name": "ipython",
    "version": 3
   },
   "file_extension": ".py",
   "mimetype": "text/x-python",
   "name": "python",
   "nbconvert_exporter": "python",
   "pygments_lexer": "ipython3",
   "version": "3.6.6"
  }
 },
 "nbformat": 4,
 "nbformat_minor": 2
}
