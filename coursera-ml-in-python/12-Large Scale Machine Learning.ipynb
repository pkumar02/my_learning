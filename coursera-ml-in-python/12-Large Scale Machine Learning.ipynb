{
 "cells": [
  {
   "cell_type": "markdown",
   "metadata": {},
   "source": [
    "# Large Scale Machine Learning\n",
    "\n",
    "## Learning with Large Datasets\n",
    "\n",
    "We mainly benefit from a very large dataset when our algorithm has high variance when $m$ is small. Recall that\n",
    "if our algorithm has high bias, more data will not have any benefit.\n",
    "\n",
    "Datasets can often approach such sizes as $m = 100, 000, 000$. In this case, our gradient descent step will have\n",
    "to make a summation over all one hundred million examples. We will want to try to avoid this -- the approaches\n",
    "for doing so are described below.\n",
    "\n",
    "### Stochastic Gradient Descent\n",
    "Stochastic gradient descent is an alternative to classic (or batch) gradient descent and is more efficient and\n",
    "scalable to large data sets.\n",
    "\n",
    "Stochastic gradient descent is written out in a different but similar way:\n",
    "\n",
    "$cost(\\theta,(x^{(i)},y^{(i)}))=\\frac {1}{2} (h_\\theta(x^{(i)}),y^{(i)})^2$\n",
    "\n",
    "The only difference in the above cost function is the elimination of the $m$ constant within $\\frac {1}{2}$.\n",
    "\n",
    "$J_{train}(\\theta)=\\frac {1}{m} \\sum_{i=1}^m cost(\\theta,(x^{(i)},y^{(i)}))$\n",
    "\n",
    "$J_{train}(\\theta)$ is now just the average of the cost applied to all of our training examples.\n",
    "\n",
    "The algorithm is as follows\n",
    "1. Randomly 'shuffle' the dataset\n",
    "2. For $i = 1,\\dots,m \\\\ \\qquad \\displaystyle \\Theta_j := \\Theta_j - \\alpha ( h_\\theta(x^{(i)}),y^{(i)}).x^{(i)}_j\\;\\;(\\texttt{for}\\;\\;j=0,\\dots,n)$\n",
    "\n",
    "This algorithm will only try to fit one training example at a time.\n",
    "\n",
    "This way we can make progress in gradient descent without having to scan all $m$ training examples first.\n",
    "\n",
    "Stochastic gradient descent will be unlikely to converge at the global minimum and will instead wander around\n",
    "it randomly, but usually yields a result that is close enough.\n",
    "\n",
    "Stochastic gradient descent will usually take 1-10 passes through your data set to get near the global minimum."
   ]
  },
  {
   "cell_type": "markdown",
   "metadata": {},
   "source": [
    "## Mini-Batch Gradient Descent\n",
    "Mini-batch gradient descent can sometimes be even faster than stochastic gradient descent. Instead of using all\n",
    "$m$ examples as in batch gradient descent, and instead of using only 1 example as in stochastic gradient descent,we will use some in-between number of examples $b$.\n",
    "\n",
    "Typical values for $b$ range from 2-100 or so.\n",
    "\n",
    "For example, with $b$ = 10 and $m$ = 1000:\n",
    "\n",
    "* Repeat:\n",
    "    * For $i = 1, 11, 21, 31,\\dots, 991$:\n",
    "    * $\\displaystyle \\theta_j :=\\theta_j-\\alpha \\frac {1}{10} \\sum_{k=i}^{i+9} (h_\\theta(x^{(k)}),y^{(k)}).x^{(k)}_j\\;\\;(\\texttt{for}\\;\\;j=0,\\dots,n)$\n",
    "\n",
    "We're simply summing over ten examples at a time.The advantage of computing more than one example at a time is that we can use vectorized implementations over the ' examples."
   ]
  },
  {
   "cell_type": "markdown",
   "metadata": {},
   "source": [
    "## Stochastic Gradient Descent Convergence\n",
    "How do we choose the learning rate $\\alpha$ for stochastic gradient descent? Also, how do we debug stochastic\n",
    "gradient descent to make sure it is getting as close as possible to the global optimum?\n",
    "\n",
    "One strategy is to plot the average cost of the hypothesis applied to every 1000 or so training examples. We can\n",
    "compute and save these costs during the gradient descent iterations.\n",
    "\n",
    "With a smaller learning rate, it is possible that you may get a slightly better solution with stochastic gradient descent. That is because stochastic gradient descent will oscillate and jump around the global minimum, and it will make smaller random jumps with a smaller learning rate.\n",
    "\n",
    "If you increase the number of examples you average over to plot the performance of your algorithm, the plot's\n",
    "line will become smoother.\n",
    "\n",
    "With a very small number of examples for the average, the line will be too noisy and it will be difficult to find the trend.\n",
    "\n",
    "One strategy for trying to actually converge at the global minimum is to **slowly decrease** $\\alpha$ **over time**. For\n",
    "example $\\alpha = \\displaystyle \\frac {const1}{iterationNumber + const2}$\n",
    "\n",
    "However, this is not often done because people don't want to have to fiddle with even more parameters."
   ]
  },
  {
   "cell_type": "markdown",
   "metadata": {},
   "source": [
    "## Online Learning\n",
    "With a continuous stream of users to a website, we can run an endless loop that gets $(x,y)$, where we collect\n",
    "some user actions for the features in $x$ to predict some behavior $y$.\n",
    "\n",
    "You can update $\\theta$ for each individual $(x,y)$ pair as you collect them. This way, you can adapt to new pools of users, since you are continuously updating theta."
   ]
  },
  {
   "cell_type": "markdown",
   "metadata": {},
   "source": [
    "## Map Reduce and Data Parallelism\n",
    "We can divide up batch gradient descent and dispatch the cost function for a subset of the data to many different machines so that we can train our algorithm in parallel.\n",
    "\n",
    "You can split your training set into 2 subsets corresponding to the number of machines you have. On each of\n",
    "those machines calculate $\\sum_{i=p}^{q} h_\\theta(x^{(i)}),y^{(i)}).x^{(i)}_j $, where we've split the data starting at $p$ and ending at $q$.\n",
    "MapReduce will take all these dispatched (or 'mapped') jobs and 'reduce' them by calculating:\n",
    "\n",
    "$\\begin{align*} & \\Theta_j  := \\Theta_j  − \\alpha \\displaystyle \\frac{1}{z}(temp_j^{(1)}+temp_j^{(2)}+\\dots+temp_j^{(z)}) \\\\ & \\text{For all}\\;\\; j = 0,\\dots,n \\end{align*}$\n",
    "\n",
    "This is simply taking the computed cost from all the machines, calculating their average, multiplying by the\n",
    "learning rate, and updating theta.\n",
    "\n",
    "Your learning algorithm is MapReduceable if it can be *expressed as computing sums of functions over the training set*. Linear regression and logistic regression are easily parallelizable.\n",
    "\n",
    "For neural networks, you can compute forward propagation and back propagation on subsets of your data on\n",
    "many machines. Those machines can report their derivatives back to a 'master' server that will combine them."
   ]
  }
 ],
 "metadata": {
  "kernelspec": {
   "display_name": "Python 3",
   "language": "python",
   "name": "python3"
  },
  "language_info": {
   "codemirror_mode": {
    "name": "ipython",
    "version": 3
   },
   "file_extension": ".py",
   "mimetype": "text/x-python",
   "name": "python",
   "nbconvert_exporter": "python",
   "pygments_lexer": "ipython3",
   "version": "3.6.6"
  }
 },
 "nbformat": 4,
 "nbformat_minor": 2
}
