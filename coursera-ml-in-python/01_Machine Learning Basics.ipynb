{
 "cells": [
  {
   "cell_type": "markdown",
   "metadata": {},
   "source": [
    "# Machine Learning\n",
    "* **Arthur Samuel (1959)**. Machine Learning: Field of study that gives computers the ability to learn without being explicitly programmed.\n",
    "* **Tom Mitchell (1998)** Well-posed Learning Problem: A computer program is said to learn from experience E with respect to some task T and some performance measure P, if its performance on T, as measured by P, improves with experience E.\n",
    "\n",
    "* Machine learning is a field of study that focuses on computer systems that can learn from data.That is, these systems, often called ``models``,can learn to perform a specific task by analyzing lots of examples for a particular problem.\n",
    "\n",
    "Because the model learns to perform this task from data,it's good to note that the amount and quality of data available for building the model are important factors in how well the model learns from the task.\n",
    "\n",
    "Because Machine Learning models can learn from data,they can be ``used to discover hidden patterns and trends in the data`` as well.These trends and patterns lead to valuable insights into the data, thus the use of Machine Learning allows for data driven functions to be made for a particular problem.\n",
    "So to summarize,\n",
    ">The field of Machine Learning focuses on the study and construction of computer systems that can learn from data without being explicitly programmed. Machine Learning algorithms and techniques are used to build models to discover hidden patterns and trends in the data, allowing for data driven decisions to be made.\n",
    "\n",
    "There are a number of other terms we hear in conversations about Machine Learning. The term ```data mining``` became popular around the time that the use of databases became commonplace. So data mining was used to refer to activities related to finding patterns in databases and data warehouses. There are some practical data management aspects to data mining related to accessing data from databases, but the process of finding patterns in data is similar to Machine Learning and often uses similar algorithms and techniques.\n",
    "```Predictive analytics``` is another term, and it refers to analyzing data in order to predict future outcomes. This term is usually used in the business context to describe activities such as sales forecasting or predicting the purchase of behavior of a customer. But again, the techniques used to make these predictions are the same techniques for Machine Learning. \n",
    "As we have discussed before, ```data science``` is a new term that's used to describe the process of processing and analyzing data to extract meaning. And again, Machine Learning techniques can also be used here. Because the term data science became popular at the same time that big data began appearing, data science usually refers to extracting meaning from big data."
   ]
  },
  {
   "cell_type": "markdown",
   "metadata": {},
   "source": [
    "### Type of Machine learning algorithms:\n",
    "- __Supervised learning__ : Classification, Regression\n",
    "- __Unsupervised learning__ : Clustering ,Association Rule Mining\n",
    "- __Others__: Reinforcement learning, Recommender System\n",
    "\n",
    "In supervised approaches, the target, which is what the model is predicting, is provided. This is referred to as having labeled data because the target is labeled for every sample that you have in your dataset. \n",
    "\n",
    "\n",
    "In unsupervised approaches, on the other hand, the target that the model is predicting is unknown or unavailable. This means that you have unlabeled data, so you can't train using these labels. Instead, the segmentation is performed using a clustering technique to group items based on characteristics of what they have in common. "
   ]
  },
  {
   "cell_type": "markdown",
   "metadata": {},
   "source": [
    "### Model Representation\n",
    "\n",
    "To establish notation for future use, we’ll use $x^{(i)}$ to denote the “input” variables (living area in this example), also called input features, and $y^{(i)}$ to denote the “output” or target variable that we are trying to predict (price). A pair $(x^{(i)} , y^{(i)} )$ is called a training example, and the dataset that we’ll be using to learn—a list of m training examples $(x^{(i)},y^{(i)});i=1,...,m $-is called a training set. Note that the superscript “(i)” in the notation is simply an index into the training set, and has nothing to do with exponentiation. We will also use X to denote the space of input values, and Y to denote the space of output values. \n",
    "\n",
    "In this example, $X = Y = \\mathbb{R}$.\n",
    "\n",
    "To describe the supervised learning problem slightly more formally, our goal is, given a training set, to learn a function $h : X → Y$ so that h(x) is a “good” predictor for the corresponding value of y. For historical reasons, this function h is called a hypothesis. Seen pictorially, the process is therefore like this:\n",
    "![01.png](ml-intro-img/01.png)\n",
    "\n",
    "\n",
    "When the target variable that we’re trying to predict is continuous, such as in our housing example, we call the learning problem a regression problem. When y can take on only a small number of discrete values (such as if, given the living area, we wanted to predict if a dwelling is a house or an apartment, say), we call it a classification problem."
   ]
  },
  {
   "cell_type": "markdown",
   "metadata": {},
   "source": [
    "### Cost Function\n",
    "\n",
    "We can measure the accuracy of our hypothesis function by using a cost function. This takes an average difference (actually a fancier version of an average) of all the results of the hypothesis with inputs from x's and the actual output y's.\n",
    "\n",
    "$$J(\\theta_0, \\theta_1) = \\dfrac {1}{2m} \\displaystyle \\sum _{i=1}^m \\left ( \\hat{y}_{i}- y_{i} \\right)^2 = \\dfrac {1}{2m} \\displaystyle \\sum _{i=1}^m \\left (h_\\theta (x_{i}) - y_{i} \\right)^2 $$\n",
    "\n",
    "To break it apart, it is $\\frac{1}{2}\\bar{x}$ where $\\bar{x}$ is the mean of the squares of $h_\\theta (x_{i}) - y_{i}$ , or the difference between the predicted value and the actual value.\n",
    "\n",
    "This function is otherwise called the ``\"Squared error function\"``, or ``\"Mean squared error\"``. The mean is halved $\\left(\\frac{1}{2}\\right)$ as a convenience for the computation of the gradient descent, as the derivative term of the square function will cancel out the $\\frac{1}{2}$ term. The following image summarizes what the cost function does:\n",
    "![02.png](ml-intro-img/02.png)"
   ]
  },
  {
   "cell_type": "markdown",
   "metadata": {},
   "source": [
    "#### Cost Function - Intuition I\n",
    "\n",
    "If we try to think of it in visual terms, our training data set is scattered on the x-y plane. We are trying to make a straight line (defined by $h_\\theta(x)h$) which passes through these scattered data points.\n",
    "\n",
    "Our objective is to get the best possible line. The best possible line will be such so that the average squared vertical distances of the scattered points from the line will be the least. Ideally, the line should pass through all the points of our training data set. In such a case, the value of $J(\\theta_0, \\theta_1)$ will be 0. The following example shows the ideal situation where we have a cost function of 0.\n",
    "![03.png](ml-intro-img/03.png)\n",
    "When $\\theta_1 = 1$, we get a slope of 1 which goes through every single data point in our model. Conversely, when $\\theta_1 = 0.5$, we see the vertical distance from our fit to the data points increase.\n",
    "![04.png](ml-intro-img/04.png)\n",
    "This increases our cost function to 0.58. Plotting several other points yields to the following graph:\n",
    "![05.png](ml-intro-img/05.png)\n",
    "Thus as a goal, we should try to minimize the cost function. In this case, $\\theta_1 = 1$ is our global minimum. "
   ]
  },
  {
   "cell_type": "markdown",
   "metadata": {},
   "source": [
    "#### Cost Function - Intuition II\n",
    "\n",
    "A contour plot is a graph that contains many contour lines. A contour line of a two variable function has a constant value at all points of the same line. An example of such a graph is the one to the right below.\n",
    "![06.png](ml-intro-img/06.png)\n",
    "Taking any color and going along the 'circle', one would expect to get the same value of the cost function. For example, the three green points found on the green line above have the same value for $J(\\theta_0,\\theta_1)$ and as a result, they are found along the same line. The circled x displays the value of the cost function for the graph on the left when $\\theta_0 = 800$ and $\\theta_1= -0.15$. Taking another $h(x)$ and plotting its contour plot, one gets the following graphs:\n",
    "![07.png](ml-intro-img/07.png)\n",
    "When $\\theta_0= 360$ and $\\theta_1 = 0$, the value of $J(\\theta_0,\\theta_1)$ in the contour plot gets closer to the center thus reducing the cost function error. Now giving our hypothesis function a slightly positive slope results in a better fit of the data.\n",
    "![08.png](ml-intro-img/08.png)\n",
    "The graph above minimizes the cost function as much as possible and consequently, the result of $\\theta_1$ and $\\theta_0$ tend to be around **0.12** and **250** respectively. Plotting those values on our graph to the right seems to put our point in the center of the inner most 'circle'. "
   ]
  },
  {
   "cell_type": "markdown",
   "metadata": {},
   "source": [
    "### Gradient Descent\n",
    "\n",
    "So we have our hypothesis function and we have a way of measuring how well it fits into the data. Now we need to estimate the parameters in the hypothesis function. That's where gradient descent comes in.\n",
    "\n",
    "Imagine that we graph our hypothesis function based on its fields $\\theta_0$ and $\\theta_1$ (actually we are graphing the cost function as a function of the parameter estimates). We are not graphing x and y itself, but the parameter range of our hypothesis function and the cost resulting from selecting a particular set of parameters.\n",
    "\n",
    "We put $\\theta_0$ on the x axis and $\\theta_1$ on the y axis, with the cost function on the vertical z axis. The points on our graph will be the result of the cost function using our hypothesis with those specific theta parameters. The graph below depicts such a setup.\n",
    "![09-GD.png](ml-intro-img/09-GD.png \"Gradient Descent\")\n",
    "We will know that we have succeeded when our cost function is at the very bottom of the pits in our graph, i.e. when its value is the minimum. The red arrows show the minimum points in the graph.\n",
    "\n",
    "The way we do this is by taking the derivative (the tangential line to a function) of our cost function. The slope of the tangent is the derivative at that point and it will give us a direction to move towards. We make steps down the cost function in the direction with the steepest descent. The size of each step is determined by the parameter $\\alpha$, which is called the learning rate.\n",
    "\n",
    "For example, the distance between each 'star' in the graph above represents a step determined by our parameter α. A smaller α would result in a smaller step and a larger α results in a larger step. The direction in which the step is taken is determined by the partial derivative of $J(\\theta_0,\\theta_1)$. Depending on where one starts on the graph, one could end up at different points. The image above shows us two different starting points that end up in two different places.\n",
    "\n",
    "The gradient descent algorithm is:\n",
    "\n",
    ">$\\texttt{repeat until convergence:} \\\\ \\theta_j := \\theta_j - \\alpha \\frac{\\partial}{\\partial \\theta_j} J(\\theta_0, \\theta_1)\\\\ \\texttt{where} \\\\ j=0,1\\;\\; \\texttt{represents the feature index number.} $\n",
    "\n",
    "At each iteration j, one should simultaneously update the parameters $\\theta_1, \\theta_2,...,\\theta_n$. Updating a specific parameter prior to calculating another one on the $j^{(th)}$ iteration would yield to a wrong implementation.\n",
    "\n",
    "![10-GD.png](ml-intro-img/10-GD.png \"Gradient Descent\")"
   ]
  },
  {
   "cell_type": "markdown",
   "metadata": {},
   "source": [
    "#### Gradient Descent Intuition\n",
    "In this video we explored the scenario where we used one parameter θ1\\theta_1θ1​ and plotted its cost function to implement a gradient descent. Our formula for a single parameter was :\n",
    "\n",
    ">$\\texttt{Repeat until convergence:}\\\\ \\theta_j := \\theta_j - \\alpha \\frac{\\partial}{\\partial \\theta_j} J(\\theta_0, \\theta_1)$\n",
    "\n",
    "Regardless of the slope's sign for $\\frac{d}{d\\theta_1} J(\\theta_1)$ eventually converges to its minimum value. The following graph shows that when the slope is negative, the value of $\\theta_1$ increases and when it is positive, the value of $\\theta_1$ decreases.\n",
    "![11-GD.png](ml-intro-img/11-GD.png)\n",
    "On a side note, we should adjust our parameter $\\alpha$ to ensure that the gradient descent algorithm converges in a reasonable time. Failure to converge or too much time to obtain the minimum value imply that our step size is wrong.\n",
    "![12-GD.png](ml-intro-img/12-GD.png)\n",
    "How does gradient descent converge with a fixed step size $\\alpha$?\n",
    "\n",
    "The intuition behind the convergence is that $\\frac{d}{d\\theta_1} J(\\theta_1)$ approaches 0 as we approach the bottom of our convex function. At the minimum, the derivative will always be 0 and thus we get:\n",
    ">$\\theta_1:=\\theta_1-\\alpha * 0$\n",
    "\n",
    "![13-GD.png](ml-intro-img/13-GD.png)\n"
   ]
  },
  {
   "cell_type": "markdown",
   "metadata": {},
   "source": [
    "## Gradient Descent For Linear Regression\n",
    "\n",
    "When specifically applied to the case of linear regression, a new form of the gradient descent equation can be derived. We can substitute our actual cost function and our actual hypothesis function and modify the equation to :\n",
    ">$\\texttt{repeat until convergence:}\\{\\\\ \\theta_0 := \\theta_0 - \\alpha \\frac{1}{m} \\sum_{i=1}^{m}  \\big (h_\\theta (x_{i}) - y_{i} \\big) \\\\  \\theta_1 := \\theta_1 - \\alpha \\frac{1}{m} \\sum_{i=1}^{m}  \\bigg (\\big(h_\\theta (x_{i}) - y_{i}\\big)x_{i} \\bigg)\\\\ \\}$\n",
    "\n",
    "where m is the size of the training set, $\\theta_0$ a constant that will be changing simultaneously with $\\theta_1$ and $x_{i}, y_{i}$ are values of the given training set (data).\n",
    "\n",
    "Note that we have separated out the two cases for $\\theta_j$ into separate equations for $\\theta_0$ and $\\theta_1$; and that for $\\theta_1$ we are multiplying $x_{i}$ at the end due to the derivative. The following is a derivation of $\\frac {\\partial}{\\partial \\theta_j}J(\\theta)$ for a single example :\n",
    "![14-GD.png](ml-intro-img/14-GD.png \"Gradient Descent\")\n",
    "The point of all this is that if we start with a guess for our hypothesis and then repeatedly apply these gradient descent equations, our hypothesis will become more and more accurate.\n",
    "\n",
    "So, this is simply gradient descent on the original cost function J. This method looks at every example in the entire training set on every step, and is called batch gradient descent. Note that, while gradient descent can be susceptible to local minima in general, the optimization problem we have posed here for linear regression has only one global, and no other local, optima; thus gradient descent always converges (assuming the learning rate α is not too large) to the global minimum. Indeed, J is a convex quadratic function. Here is an example of gradient descent as it is run to minimize a quadratic function.\n",
    "![15-GD.png](ml-intro-img/15-GD.png \"Gradient Descent\")\n",
    "The ellipses shown above are the contours of a quadratic function. Also shown is the trajectory taken by gradient descent, which was initialized at (48,30). The x’s in the figure (joined by straight lines) mark the successive values of $\\theta$ that gradient descent went through as it converged to its minimum."
   ]
  }
 ],
 "metadata": {
  "kernelspec": {
   "display_name": "Python 3",
   "language": "python",
   "name": "python3"
  },
  "language_info": {
   "codemirror_mode": {
    "name": "ipython",
    "version": 3
   },
   "file_extension": ".py",
   "mimetype": "text/x-python",
   "name": "python",
   "nbconvert_exporter": "python",
   "pygments_lexer": "ipython3",
   "version": "3.6.6"
  }
 },
 "nbformat": 4,
 "nbformat_minor": 2
}
